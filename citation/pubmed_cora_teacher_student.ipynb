{
 "cells": [
  {
   "cell_type": "markdown",
   "source": [
    "Import dependencies"
   ],
   "metadata": {
    "collapsed": false
   }
  },
  {
   "cell_type": "code",
   "execution_count": 1,
   "outputs": [],
   "source": [
    "from model.layers import GraphSpectralFilterLayer, AnalysisFilter\n",
    "from model.spectral_filter import Graph\n",
    "import torch\n",
    "import torch.nn.functional as F\n",
    "from torch import nn\n",
    "from random import seed as rseed\n",
    "from numpy.random import seed as nseed\n",
    "from citation import get_dataset, random_planetoid_splits, run\n",
    "from citation.train_eval import evaluate\n",
    "import numpy as np\n"
   ],
   "metadata": {
    "collapsed": false,
    "pycharm": {
     "name": "#%%\n"
    }
   }
  },
  {
   "cell_type": "markdown",
   "source": [
    "Define hyperparameters"
   ],
   "metadata": {
    "collapsed": false
   }
  },
  {
   "cell_type": "code",
   "execution_count": 2,
   "outputs": [],
   "source": [
    "dataset_name = 'PubMed'\n",
    "\n",
    "random_splits = False\n",
    "runs = 1\n",
    "alpha = 0.2\n",
    "seed =729\n",
    "weight_decay = 0.00012376256876336363\n",
    "patience=10\n",
    "hidden=88\n",
    "lr =0.005\n",
    "dropout=0.7\n",
    "heads =12\n",
    "output_heads =10\n",
    "normalize_features = True\n",
    "pre_training = False\n",
    "cuda = False\n",
    "order =16\n",
    "edge_dropout =0\n",
    "node_feature_dropout =0\n",
    "filter_name ='analysis'\n",
    "\n",
    "rseed(seed)\n",
    "nseed(seed)\n",
    "torch.manual_seed(seed)\n",
    "\n",
    "cuda = cuda and torch.cuda.is_available()\n",
    "\n",
    "if cuda:\n",
    "    torch.cuda.manual_seed(seed)\n",
    "    torch.set_default_tensor_type('torch.cuda.FloatTensor')\n",
    "    \n",
    "def get_correctly_predicted_node_idx(net, key, dataset):\n",
    "    net.eval()\n",
    "    with torch.no_grad():\n",
    "        logits  = net(dataset[0])[0]\n",
    "    mask = dataset[0]['{}_mask'.format(key)]\n",
    "    pred = logits[mask].max(1)[1]\n",
    "    return { *pred.eq(dataset[0].y[mask]).nonzero().view(-1).tolist() }"
   ],
   "metadata": {
    "collapsed": false,
    "pycharm": {
     "name": "#%%\n"
    }
   }
  },
  {
   "cell_type": "markdown",
   "source": [
    "Define model"
   ],
   "metadata": {
    "collapsed": false
   }
  },
  {
   "cell_type": "code",
   "execution_count": 3,
   "outputs": [],
   "source": [
    "class Net(torch.nn.Module):\n",
    "    def __init__(self, dataset):\n",
    "        super(Net, self).__init__()\n",
    "        data = dataset.data\n",
    "        adj = torch.sparse_coo_tensor(data.edge_index, torch.ones(data.num_edges))\n",
    "        self.G = Graph(adj)\n",
    "        self.G.estimate_lmax()\n",
    "\n",
    "        self.analysis = GraphSpectralFilterLayer(self.G, dataset.num_node_features, hidden,\n",
    "                                                 dropout=dropout, out_channels=heads, filter=filter_name,\n",
    "                                                 pre_training=False, device='cuda' if cuda else 'cpu',\n",
    "                                                 alpha=alpha, order=order, concat=True)\n",
    "\n",
    "        self.synthesis = GraphSpectralFilterLayer(self.G, hidden * heads, dataset.num_classes, filter=filter_name,\n",
    "                                                  device='cuda' if cuda else 'cpu', dropout=dropout,\n",
    "                                                  out_channels=1, alpha=alpha, pre_training=False,\n",
    "                                                  order=order, concat=False)\n",
    "\n",
    "    def reset_parameters(self):\n",
    "        self.analysis.reset_parameters()\n",
    "        self.synthesis.reset_parameters()\n",
    "\n",
    "    def forward(self, data):\n",
    "        x = data.x\n",
    "        x = F.dropout(x, p=dropout, training=self.training)\n",
    "        x, att1 = self.analysis(x)\n",
    "        x = F.dropout(x, p=dropout, training=self.training)\n",
    "        x, att2 = self.synthesis(x)\n",
    "        last_layer = x\n",
    "        x = F.elu(x)\n",
    "        return F.log_softmax(x, dim=1), last_layer, None\n",
    "\n",
    "dataset = get_dataset(dataset_name, normalize_features, edge_dropout=edge_dropout,\n",
    "                                node_feature_dropout=node_feature_dropout)\n",
    "\n",
    "if cuda:\n",
    "    dataset[0].to('cuda')"
   ],
   "metadata": {
    "collapsed": false,
    "pycharm": {
     "name": "#%%\n"
    }
   }
  },
  {
   "cell_type": "code",
   "execution_count": 4,
   "outputs": [],
   "source": [
    "student_heads = 1\n",
    "\n",
    "class StudentNet(torch.nn.Module):\n",
    "    def __init__(self, dataset):\n",
    "        super(StudentNet, self).__init__()\n",
    "        data = dataset.data\n",
    "        adj = torch.sparse_coo_tensor(data.edge_index, torch.ones(data.num_edges))\n",
    "        self.G = Graph(adj)\n",
    "        self.G.estimate_lmax()\n",
    "\n",
    "        self.analysis = GraphSpectralFilterLayer(self.G, dataset.num_node_features, dataset.num_classes,\n",
    "                                                 dropout=dropout, out_channels=student_heads, filter=filter_name,\n",
    "                                                 pre_training=False, device='cuda' if cuda else 'cpu',\n",
    "                                                 alpha=alpha, order=order, concat=False)\n",
    "\n",
    "        # self.synthesis = GraphSpectralFilterLayer(self.G, hidden * student_heads, dataset.num_classes, filter=filter_name,\n",
    "        #                                           device='cuda' if cuda else 'cpu', dropout=dropout,\n",
    "        #                                           out_channels=student_heads, alpha=alpha, pre_training=False,\n",
    "        #                                           order=order, concat=False)\n",
    "    def reset_parameters(self):\n",
    "        self.analysis.reset_parameters()\n",
    "\n",
    "    def forward(self, data):\n",
    "        x = data.x\n",
    "        x = F.dropout(x, p=dropout, training=self.training)\n",
    "        x, att1 = self.analysis(x)\n",
    "        # x = F.dropout(x, p=dropout, training=self.training)\n",
    "        # last_layer, att2 = self.synthesis(x)\n",
    "        last_layer = x\n",
    "        x = F.elu(x)\n",
    "        return F.log_softmax(x, dim=1), last_layer, None"
   ],
   "metadata": {
    "collapsed": false,
    "pycharm": {
     "name": "#%%\n"
    }
   }
  },
  {
   "cell_type": "markdown",
   "source": [
    "Load trained model and evaluate"
   ],
   "metadata": {
    "collapsed": false
   }
  },
  {
   "cell_type": "code",
   "execution_count": 5,
   "outputs": [
    {
     "name": "stdout",
     "output_type": "stream",
     "text": [
      "{'train_loss': 0.25815349817276, 'train_acc': 0.9092056869956634, 'train_micro_f1': 0.9092056869956634, 'train_macro_f1': 0.9060534433900731, 'val_loss': 0.2487691044807434, 'val_acc': 0.916, 'val_micro_f1': 0.916, 'val_macro_f1': 0.9116419796876049, 'test_loss': 0.27245962619781494, 'test_acc': 0.903, 'test_micro_f1': 0.903, 'test_macro_f1': 0.8965550190064704}\n"
     ]
    }
   ],
   "source": [
    "model = Net(dataset)\n",
    "model.load_state_dict(torch.load('./model/best_{}_gpu.pkl'.format(dataset_name),  map_location={'cuda:0': 'cpu'}))\n",
    "\n",
    "# model = SingleNet(dataset)\n",
    "# model.load_state_dict(torch.load('./model/best_{}_single_layer.pkl'.format(dataset_name)))\n",
    "\n",
    "# filter_kernel = model.analysis.filter_kernel\n",
    "\n",
    "# model_correct_indices = get_correctly_predicted_node_idx(model, 'test', dataset)\n",
    "eval_info = evaluate(model, dataset[0])\n",
    "print(eval_info)"
   ],
   "metadata": {
    "collapsed": false,
    "pycharm": {
     "name": "#%%\n"
    }
   }
  },
  {
   "cell_type": "code",
   "execution_count": 6,
   "outputs": [],
   "source": [
    "with torch.no_grad():\n",
    "    soft_target = model(dataset[0])[1]"
   ],
   "metadata": {
    "collapsed": false,
    "pycharm": {
     "name": "#%%\n"
    }
   }
  },
  {
   "cell_type": "code",
   "source": [
    "from torch.optim import Adam\n",
    "from sklearn.metrics import f1_score\n",
    "student = StudentNet(dataset)\n",
    "student.reset_parameters()\n",
    "optimizer = Adam(student.parameters(), lr=lr, weight_decay=weight_decay)\n",
    "data = dataset.data\n",
    "\n",
    "epochs =2000\n",
    "lr =0.02\n",
    "dropout=0\n",
    "best_val_loss = float('inf')\n",
    "best_val_acc = float(0)\n",
    "eval_info_early_model = None\n",
    "bad_counter = 0\n",
    "\n",
    "for epoch in range(1, epochs + 1):\n",
    "    optimizer.zero_grad()\n",
    "    logits, out, _ = student(data)\n",
    "    loss = F.mse_loss(out, soft_target)\n",
    "    loss.backward()\n",
    "    optimizer.step()\n",
    "    student.train()\n",
    "\n",
    "    # eval_info['epoch'] = epoch\n",
    "    if epoch % 10 == 0:\n",
    "        student.eval()\n",
    "        outs = {}\n",
    "        outs['loss'] = loss.item()\n",
    "        for key in ['train', 'val', 'test']:\n",
    "            mask = data['{}_mask'.format(key)]\n",
    "            loss = F.nll_loss(logits[mask], data.y[mask]).item()\n",
    "            pred = logits[mask].max(1)[1]\n",
    "\n",
    "            outs['{}_loss'.format(key)] = loss\n",
    "\n",
    "            outs['{}_micro_f1'.format(key)] = f1_score(data.y[mask].cpu(), logits[mask].max(1)[1].cpu(), average='micro')\n",
    "            outs['{}_macro_f1'.format(key)] = f1_score(data.y[mask].cpu(), logits[mask].max(1)[1].cpu(), average='macro')\n",
    "\n",
    "        print(outs)\n",
    "    # if eval_info['val_acc'] > best_val_acc or eval_info['val_loss'] < best_val_loss:\n",
    "    #     if eval_info['val_acc'] >= best_val_acc and eval_info['val_loss'] <= best_val_loss:\n",
    "    #         eval_info_early_model = eval_info\n",
    "    #         # torch.save(model.state_dict(), './best_{}_appnp.pkl'.format(dataset.name))\n",
    "    #     best_val_acc = np.max((best_val_acc, eval_info['val_acc']))\n",
    "    #     best_val_loss = np.min((best_val_loss, eval_info['val_loss']))\n",
    "    #     bad_counter = 0\n",
    "    # else:\n",
    "    #     bad_counter += 1\n",
    "    #     if bad_counter == patience:\n",
    "    #         break"
   ],
   "metadata": {
    "collapsed": false,
    "pycharm": {
     "name": "#%%\n"
    }
   },
   "execution_count": 7,
   "outputs": [
    {
     "name": "stdout",
     "output_type": "stream",
     "text": [
      "{'loss': 6.957119941711426, 'train_loss': 1.0753040313720703, 'train_micro_f1': 0.5222594280068068, 'train_macro_f1': 0.5004430200562994, 'val_loss': 1.07261061668396, 'val_micro_f1': 0.52, 'val_macro_f1': 0.49669192830506437, 'test_loss': 1.0748200416564941, 'test_micro_f1': 0.531, 'test_macro_f1': 0.501969511969512}\n",
      "{'loss': 6.658788681030273, 'train_loss': 1.0564773082733154, 'train_micro_f1': 0.5399352253389691, 'train_macro_f1': 0.5084354776653283, 'val_loss': 1.0529581308364868, 'val_micro_f1': 0.538, 'val_macro_f1': 0.5117738873691966, 'test_loss': 1.0556169748306274, 'test_micro_f1': 0.55, 'test_macro_f1': 0.5171089205866775}\n",
      "{'loss': 6.376893043518066, 'train_loss': 1.036821722984314, 'train_micro_f1': 0.5497063182741395, 'train_macro_f1': 0.5103197602212798, 'val_loss': 1.0325250625610352, 'val_micro_f1': 0.57, 'val_macro_f1': 0.5339270344070224, 'test_loss': 1.035496711730957, 'test_micro_f1': 0.556, 'test_macro_f1': 0.5187831344728614}\n",
      "{'loss': 6.111839294433594, 'train_loss': 1.0169566869735718, 'train_micro_f1': 0.5613986935280233, 'train_macro_f1': 0.5203746302625901, 'val_loss': 1.0118342638015747, 'val_micro_f1': 0.584, 'val_macro_f1': 0.5526484662798731, 'test_loss': 1.0153104066848755, 'test_micro_f1': 0.565, 'test_macro_f1': 0.5232734699153865}\n",
      "{'loss': 5.863167762756348, 'train_loss': 0.997344434261322, 'train_micro_f1': 0.5746829884174123, 'train_macro_f1': 0.5349252351308729, 'val_loss': 0.991535484790802, 'val_micro_f1': 0.594, 'val_macro_f1': 0.5632057111943064, 'test_loss': 0.9950923323631287, 'test_micro_f1': 0.589, 'test_macro_f1': 0.548206063105558}\n",
      "{'loss': 5.62959098815918, 'train_loss': 0.9782874584197998, 'train_micro_f1': 0.590821759894604, 'train_macro_f1': 0.5562380247054166, 'val_loss': 0.972118616104126, 'val_micro_f1': 0.618, 'val_macro_f1': 0.5994708994708994, 'test_loss': 0.9753932952880859, 'test_micro_f1': 0.598, 'test_macro_f1': 0.5585921824004916}\n",
      "{'loss': 5.409113883972168, 'train_loss': 0.9598525166511536, 'train_micro_f1': 0.6081681945435582, 'train_macro_f1': 0.5781751971432428, 'val_loss': 0.9526462554931641, 'val_micro_f1': 0.638, 'val_macro_f1': 0.6205628016842969, 'test_loss': 0.9575058817863464, 'test_micro_f1': 0.62, 'test_macro_f1': 0.5825896332450856}\n",
      "{'loss': 5.203394889831543, 'train_loss': 0.9422593712806702, 'train_micro_f1': 0.6265576110226712, 'train_macro_f1': 0.6000465173771835, 'val_loss': 0.9352931380271912, 'val_micro_f1': 0.66, 'val_macro_f1': 0.6511549384056311, 'test_loss': 0.9381663203239441, 'test_micro_f1': 0.627, 'test_macro_f1': 0.5935501994494072}\n",
      "{'loss': 5.00896692276001, 'train_loss': 0.9253722429275513, 'train_micro_f1': 0.6426963824998627, 'train_macro_f1': 0.6203554454642255, 'val_loss': 0.9168970584869385, 'val_micro_f1': 0.678, 'val_macro_f1': 0.6686024092924486, 'test_loss': 0.9209559559822083, 'test_micro_f1': 0.643, 'test_macro_f1': 0.6110478079448015}\n",
      "{'loss': 4.82678747177124, 'train_loss': 0.9090366363525391, 'train_micro_f1': 0.6582313223911731, 'train_macro_f1': 0.6375881864411385, 'val_loss': 0.9018753170967102, 'val_micro_f1': 0.69, 'val_macro_f1': 0.6808725726794954, 'test_loss': 0.9044790267944336, 'test_micro_f1': 0.657, 'test_macro_f1': 0.6273988270379468}\n",
      "{'loss': 4.655331134796143, 'train_loss': 0.8934600949287415, 'train_micro_f1': 0.6732173244771368, 'train_macro_f1': 0.6541683016715387, 'val_loss': 0.8840087652206421, 'val_micro_f1': 0.7100000000000001, 'val_macro_f1': 0.702498965019949, 'test_loss': 0.8880252838134766, 'test_micro_f1': 0.674, 'test_macro_f1': 0.646779927356296}\n",
      "{'loss': 4.494349002838135, 'train_loss': 0.8783972263336182, 'train_micro_f1': 0.6865016193665258, 'train_macro_f1': 0.669560622540319, 'val_loss': 0.868504524230957, 'val_micro_f1': 0.722, 'val_macro_f1': 0.7163009829676495, 'test_loss': 0.8726882338523865, 'test_micro_f1': 0.681, 'test_macro_f1': 0.654877771857812}\n",
      "{'loss': 4.344292640686035, 'train_loss': 0.8639414310455322, 'train_micro_f1': 0.6972059065707855, 'train_macro_f1': 0.6817576365030277, 'val_loss': 0.8574832677841187, 'val_micro_f1': 0.7419999999999999, 'val_macro_f1': 0.7360189273611034, 'test_loss': 0.8576658368110657, 'test_micro_f1': 0.696, 'test_macro_f1': 0.6736148571903544}\n",
      "{'loss': 4.200899600982666, 'train_loss': 0.8498862385749817, 'train_micro_f1': 0.7075808310918373, 'train_macro_f1': 0.6940285259582445, 'val_loss': 0.8412016034126282, 'val_micro_f1': 0.75, 'val_macro_f1': 0.7492571269384344, 'test_loss': 0.8437726497650146, 'test_micro_f1': 0.718, 'test_macro_f1': 0.6984798028515439}\n",
      "{'loss': 4.062358379364014, 'train_loss': 0.8361977338790894, 'train_micro_f1': 0.7160893670747104, 'train_macro_f1': 0.7034009338989068, 'val_loss': 0.825217604637146, 'val_micro_f1': 0.754, 'val_macro_f1': 0.7526464838467898, 'test_loss': 0.8290598392486572, 'test_micro_f1': 0.731, 'test_macro_f1': 0.7105579685848419}\n",
      "{'loss': 3.9353301525115967, 'train_loss': 0.8230326771736145, 'train_micro_f1': 0.7264642915957621, 'train_macro_f1': 0.7148790539673363, 'val_loss': 0.8119975924491882, 'val_micro_f1': 0.7579999999999999, 'val_macro_f1': 0.7587432339357623, 'test_loss': 0.8163070678710938, 'test_micro_f1': 0.745, 'test_macro_f1': 0.7260088222031466}\n",
      "{'loss': 3.8147740364074707, 'train_loss': 0.810361385345459, 'train_micro_f1': 0.7336553768458033, 'train_macro_f1': 0.7231536940852914, 'val_loss': 0.7987213134765625, 'val_micro_f1': 0.7579999999999999, 'val_macro_f1': 0.7589772921822228, 'test_loss': 0.802372395992279, 'test_micro_f1': 0.753, 'test_macro_f1': 0.7353080180630683}\n",
      "{'loss': 3.702043294906616, 'train_loss': 0.7982178330421448, 'train_micro_f1': 0.74079156831531, 'train_macro_f1': 0.7313594010544393, 'val_loss': 0.787728488445282, 'val_micro_f1': 0.762, 'val_macro_f1': 0.7650970860059533, 'test_loss': 0.789908766746521, 'test_micro_f1': 0.7590000000000001, 'test_macro_f1': 0.7456684282741132}\n",
      "{'loss': 3.5967774391174316, 'train_loss': 0.7865540385246277, 'train_micro_f1': 0.7462260525882417, 'train_macro_f1': 0.7374710099232535, 'val_loss': 0.7755588293075562, 'val_micro_f1': 0.7699999999999999, 'val_macro_f1': 0.7716919425641006, 'test_loss': 0.7792564034461975, 'test_micro_f1': 0.767, 'test_macro_f1': 0.7555282406426517}\n",
      "{'loss': 3.489668130874634, 'train_loss': 0.774649441242218, 'train_micro_f1': 0.7514958555195697, 'train_macro_f1': 0.7434738072639461, 'val_loss': 0.7628964185714722, 'val_micro_f1': 0.772, 'val_macro_f1': 0.7733582391085058, 'test_loss': 0.7653990387916565, 'test_micro_f1': 0.775, 'test_macro_f1': 0.7633509126544857}\n",
      "{'loss': 3.3953604698181152, 'train_loss': 0.7637172937393188, 'train_micro_f1': 0.7578635340615908, 'train_macro_f1': 0.7504041171007975, 'val_loss': 0.7513492703437805, 'val_micro_f1': 0.774, 'val_macro_f1': 0.7764166764166763, 'test_loss': 0.7545788288116455, 'test_micro_f1': 0.778, 'test_macro_f1': 0.7665872245532196}\n",
      "{'loss': 3.302305221557617, 'train_loss': 0.7529084086418152, 'train_micro_f1': 0.7629686556513147, 'train_macro_f1': 0.756039701234897, 'val_loss': 0.7424347996711731, 'val_micro_f1': 0.772, 'val_macro_f1': 0.7761209514588456, 'test_loss': 0.7429131865501404, 'test_micro_f1': 0.782, 'test_macro_f1': 0.7705189154946411}\n",
      "{'loss': 3.211510419845581, 'train_loss': 0.7420087456703186, 'train_micro_f1': 0.7659878135807213, 'train_macro_f1': 0.7595075708860728, 'val_loss': 0.7288921475410461, 'val_micro_f1': 0.778, 'val_macro_f1': 0.7837441156326604, 'test_loss': 0.7319585084915161, 'test_micro_f1': 0.786, 'test_macro_f1': 0.7749619115308658}\n",
      "{'loss': 3.130059003829956, 'train_loss': 0.732057511806488, 'train_micro_f1': 0.7696108030960093, 'train_macro_f1': 0.7639298087136673, 'val_loss': 0.7182238101959229, 'val_micro_f1': 0.786, 'val_macro_f1': 0.7916651436589831, 'test_loss': 0.7230172753334045, 'test_micro_f1': 0.788, 'test_macro_f1': 0.7773721394790947}\n",
      "{'loss': 3.0483508110046387, 'train_loss': 0.7220118045806885, 'train_micro_f1': 0.7726848548059505, 'train_macro_f1': 0.7670783847090611, 'val_loss': 0.7098338603973389, 'val_micro_f1': 0.79, 'val_macro_f1': 0.7949640738773681, 'test_loss': 0.7127625346183777, 'test_micro_f1': 0.7890000000000001, 'test_macro_f1': 0.7776521733389058}\n",
      "{'loss': 2.9739599227905273, 'train_loss': 0.7126041054725647, 'train_micro_f1': 0.7758686940769611, 'train_macro_f1': 0.7709280620702178, 'val_loss': 0.7002167701721191, 'val_micro_f1': 0.792, 'val_macro_f1': 0.7966088347483696, 'test_loss': 0.7022885680198669, 'test_micro_f1': 0.7940000000000002, 'test_macro_f1': 0.7844284928375993}\n",
      "{'loss': 2.906496286392212, 'train_loss': 0.7040387392044067, 'train_micro_f1': 0.7793270022506451, 'train_macro_f1': 0.7744365191257049, 'val_loss': 0.6888146996498108, 'val_micro_f1': 0.792, 'val_macro_f1': 0.7966088347483696, 'test_loss': 0.6926466822624207, 'test_micro_f1': 0.7940000000000002, 'test_macro_f1': 0.7864133773193797}\n",
      "{'loss': 2.8331375122070312, 'train_loss': 0.694566011428833, 'train_micro_f1': 0.781797222374705, 'train_macro_f1': 0.7772088643265226, 'val_loss': 0.6796287894248962, 'val_micro_f1': 0.788, 'val_macro_f1': 0.7925303324770664, 'test_loss': 0.683269202709198, 'test_micro_f1': 0.795, 'test_macro_f1': 0.7864446521837269}\n",
      "{'loss': 2.765360116958618, 'train_loss': 0.6857864856719971, 'train_micro_f1': 0.7844321238403688, 'train_macro_f1': 0.7801600804366325, 'val_loss': 0.6715471148490906, 'val_micro_f1': 0.7940000000000002, 'val_macro_f1': 0.7998721522908395, 'test_loss': 0.6745495200157166, 'test_micro_f1': 0.796, 'test_macro_f1': 0.7887980589622922}\n",
      "{'loss': 2.700626850128174, 'train_loss': 0.6772936582565308, 'train_micro_f1': 0.7871768128671023, 'train_macro_f1': 0.7834951163095543, 'val_loss': 0.6631988286972046, 'val_micro_f1': 0.798, 'val_macro_f1': 0.8031246655965757, 'test_loss': 0.6651175022125244, 'test_micro_f1': 0.798, 'test_macro_f1': 0.7894790035056314}\n",
      "{'loss': 2.642209053039551, 'train_loss': 0.6694090962409973, 'train_micro_f1': 0.7881100071361916, 'train_macro_f1': 0.784639800370934, 'val_loss': 0.6514486074447632, 'val_micro_f1': 0.8000000000000002, 'val_macro_f1': 0.805944580944581, 'test_loss': 0.6569533944129944, 'test_micro_f1': 0.803, 'test_macro_f1': 0.7955192815161127}\n",
      "{'loss': 2.5832512378692627, 'train_loss': 0.661759078502655, 'train_micro_f1': 0.791129165065598, 'train_macro_f1': 0.787858278922692, 'val_loss': 0.6455439925193787, 'val_micro_f1': 0.804, 'val_macro_f1': 0.8115172776111308, 'test_loss': 0.6495420932769775, 'test_micro_f1': 0.799, 'test_macro_f1': 0.7913991218883787}\n",
      "{'loss': 2.526226282119751, 'train_loss': 0.6541224122047424, 'train_micro_f1': 0.7921172531152222, 'train_macro_f1': 0.7892655568989264, 'val_loss': 0.6408946514129639, 'val_micro_f1': 0.804, 'val_macro_f1': 0.8116250557485764, 'test_loss': 0.6418205499649048, 'test_micro_f1': 0.798, 'test_macro_f1': 0.7909062520471943}\n",
      "{'loss': 2.473588228225708, 'train_loss': 0.6468217372894287, 'train_micro_f1': 0.7939836416534006, 'train_macro_f1': 0.7912596825211721, 'val_loss': 0.6313600540161133, 'val_micro_f1': 0.8119999999999999, 'val_macro_f1': 0.8205121389331915, 'test_loss': 0.6335304379463196, 'test_micro_f1': 0.799, 'test_macro_f1': 0.792466162765144}\n",
      "{'loss': 2.4207868576049805, 'train_loss': 0.6396299004554749, 'train_micro_f1': 0.795246198605698, 'train_macro_f1': 0.792746979224921, 'val_loss': 0.6230974793434143, 'val_micro_f1': 0.816, 'val_macro_f1': 0.8258153833569608, 'test_loss': 0.6275511980056763, 'test_micro_f1': 0.804, 'test_macro_f1': 0.797986427204603}\n",
      "{'loss': 2.372437000274658, 'train_loss': 0.6328843235969543, 'train_micro_f1': 0.7967283306801339, 'train_macro_f1': 0.7943402943025611, 'val_loss': 0.6168721318244934, 'val_micro_f1': 0.818, 'val_macro_f1': 0.82746749543906, 'test_loss': 0.6203383803367615, 'test_micro_f1': 0.803, 'test_macro_f1': 0.7967385116242774}\n",
      "{'loss': 2.327894926071167, 'train_loss': 0.6265440583229065, 'train_micro_f1': 0.7978811000713618, 'train_macro_f1': 0.7956900933388457, 'val_loss': 0.6136380434036255, 'val_micro_f1': 0.822, 'val_macro_f1': 0.8328015733730837, 'test_loss': 0.6142219305038452, 'test_micro_f1': 0.807, 'test_macro_f1': 0.8014225114482941}\n",
      "{'loss': 2.278212308883667, 'train_loss': 0.619719386100769, 'train_micro_f1': 0.7993083383652633, 'train_macro_f1': 0.7973524439339141, 'val_loss': 0.6026514768600464, 'val_micro_f1': 0.826, 'val_macro_f1': 0.8361094337090714, 'test_loss': 0.6066626310348511, 'test_micro_f1': 0.806, 'test_macro_f1': 0.8006237868130682}\n",
      "{'loss': 2.232609748840332, 'train_loss': 0.6135666966438293, 'train_micro_f1': 0.8002415326343525, 'train_macro_f1': 0.7982748264406639, 'val_loss': 0.600162148475647, 'val_micro_f1': 0.824, 'val_macro_f1': 0.8336028676588422, 'test_loss': 0.5997638702392578, 'test_micro_f1': 0.809, 'test_macro_f1': 0.8044728658123507}\n",
      "{'loss': 2.193081855773926, 'train_loss': 0.6078307032585144, 'train_micro_f1': 0.8012296206839765, 'train_macro_f1': 0.7994139722702139, 'val_loss': 0.5935533046722412, 'val_micro_f1': 0.82, 'val_macro_f1': 0.8286277652086476, 'test_loss': 0.5962872505187988, 'test_micro_f1': 0.806, 'test_macro_f1': 0.8016330926610943}\n",
      "{'loss': 2.1520445346832275, 'train_loss': 0.6022592186927795, 'train_micro_f1': 0.8020530273919965, 'train_macro_f1': 0.8004195432860755, 'val_loss': 0.5859082937240601, 'val_micro_f1': 0.822, 'val_macro_f1': 0.8302758996546791, 'test_loss': 0.5894542336463928, 'test_micro_f1': 0.81, 'test_macro_f1': 0.8048472795875435}\n",
      "{'loss': 2.106105327606201, 'train_loss': 0.5960761904716492, 'train_micro_f1': 0.8032606905637591, 'train_macro_f1': 0.8015555364976775, 'val_loss': 0.5784543752670288, 'val_micro_f1': 0.824, 'val_macro_f1': 0.831921655406099, 'test_loss': 0.5821822881698608, 'test_micro_f1': 0.8119999999999999, 'test_macro_f1': 0.8071580163822896}\n",
      "{'loss': 2.0727286338806152, 'train_loss': 0.5910312533378601, 'train_micro_f1': 0.8046879288576604, 'train_macro_f1': 0.8031430437819319, 'val_loss': 0.5726396441459656, 'val_micro_f1': 0.824, 'val_macro_f1': 0.8310937983418117, 'test_loss': 0.5767320394515991, 'test_micro_f1': 0.8119999999999999, 'test_macro_f1': 0.8071580163822896}\n",
      "{'loss': 2.03369140625, 'train_loss': 0.5854151844978333, 'train_micro_f1': 0.8056760169072844, 'train_macro_f1': 0.8043975973032316, 'val_loss': 0.5675441026687622, 'val_micro_f1': 0.826, 'val_macro_f1': 0.8327342694869917, 'test_loss': 0.5732793211936951, 'test_micro_f1': 0.813, 'test_macro_f1': 0.8079604027333173}\n",
      "{'loss': 1.9975018501281738, 'train_loss': 0.580586314201355, 'train_micro_f1': 0.806554317395839, 'train_macro_f1': 0.8054408232596608, 'val_loss': 0.5623680353164673, 'val_micro_f1': 0.826, 'val_macro_f1': 0.833734008774231, 'test_loss': 0.5685621500015259, 'test_micro_f1': 0.815, 'test_macro_f1': 0.8109501350952417}\n",
      "{'loss': 1.9646716117858887, 'train_loss': 0.5759189128875732, 'train_micro_f1': 0.8078168743481363, 'train_macro_f1': 0.806800272828291, 'val_loss': 0.5573661923408508, 'val_micro_f1': 0.828, 'val_macro_f1': 0.8363560779457027, 'test_loss': 0.562961995601654, 'test_micro_f1': 0.815, 'test_macro_f1': 0.8109501350952417}\n",
      "{'loss': 1.9334619045257568, 'train_loss': 0.5715559124946594, 'train_micro_f1': 0.807871768128671, 'train_macro_f1': 0.80698404579765, 'val_loss': 0.5539666414260864, 'val_micro_f1': 0.826, 'val_macro_f1': 0.8338182609443477, 'test_loss': 0.557832658290863, 'test_micro_f1': 0.818, 'test_macro_f1': 0.8133710978775991}\n",
      "{'loss': 1.8987194299697876, 'train_loss': 0.5664834976196289, 'train_micro_f1': 0.809024537519899, 'train_macro_f1': 0.8082836260437122, 'val_loss': 0.5478564500808716, 'val_micro_f1': 0.828, 'val_macro_f1': 0.8363560779457027, 'test_loss': 0.5540358424186707, 'test_micro_f1': 0.82, 'test_macro_f1': 0.8154206958621715}\n",
      "{'loss': 1.8686078786849976, 'train_loss': 0.5625796318054199, 'train_micro_f1': 0.809683262886315, 'train_macro_f1': 0.8089467033133172, 'val_loss': 0.543341875076294, 'val_micro_f1': 0.826, 'val_macro_f1': 0.8338901788161227, 'test_loss': 0.5487313866615295, 'test_micro_f1': 0.819, 'test_macro_f1': 0.8141739747564559}\n",
      "{'loss': 1.8359854221343994, 'train_loss': 0.557711660861969, 'train_micro_f1': 0.8110556073996816, 'train_macro_f1': 0.8104503514747224, 'val_loss': 0.5389792919158936, 'val_micro_f1': 0.826, 'val_macro_f1': 0.8338901788161227, 'test_loss': 0.5448271036148071, 'test_micro_f1': 0.819, 'test_macro_f1': 0.8141797227122328}\n",
      "{'loss': 1.8069466352462769, 'train_loss': 0.5537402033805847, 'train_micro_f1': 0.8112202887412856, 'train_macro_f1': 0.8107291515341389, 'val_loss': 0.5347639918327332, 'val_micro_f1': 0.826, 'val_macro_f1': 0.8338901788161227, 'test_loss': 0.5397719740867615, 'test_micro_f1': 0.819, 'test_macro_f1': 0.8141797227122328}\n",
      "{'loss': 1.7810100317001343, 'train_loss': 0.5500724911689758, 'train_micro_f1': 0.812318164351979, 'train_macro_f1': 0.8117640051885352, 'val_loss': 0.5305269956588745, 'val_micro_f1': 0.824, 'val_macro_f1': 0.832164653458345, 'test_loss': 0.5361276865005493, 'test_micro_f1': 0.82, 'test_macro_f1': 0.8160942914409598}\n",
      "{'loss': 1.7539340257644653, 'train_loss': 0.5464417338371277, 'train_micro_f1': 0.8130866772794643, 'train_macro_f1': 0.8123911893736137, 'val_loss': 0.5280601382255554, 'val_micro_f1': 0.824, 'val_macro_f1': 0.832164653458345, 'test_loss': 0.5323197245597839, 'test_micro_f1': 0.82, 'test_macro_f1': 0.8160942914409598}\n",
      "{'loss': 1.7264870405197144, 'train_loss': 0.541988730430603, 'train_micro_f1': 0.8135258275237416, 'train_macro_f1': 0.8130473526360569, 'val_loss': 0.5291323065757751, 'val_micro_f1': 0.824, 'val_macro_f1': 0.8321557035349524, 'test_loss': 0.5287656784057617, 'test_micro_f1': 0.82, 'test_macro_f1': 0.8160942914409598}\n",
      "{'loss': 1.6992242336273193, 'train_loss': 0.5385252237319946, 'train_micro_f1': 0.8139100839874842, 'train_macro_f1': 0.8133316066121931, 'val_loss': 0.5236258506774902, 'val_micro_f1': 0.824, 'val_macro_f1': 0.8321557035349524, 'test_loss': 0.5254655480384827, 'test_micro_f1': 0.823, 'test_macro_f1': 0.8185217645340345}\n",
      "{'loss': 1.6751900911331177, 'train_loss': 0.5354957580566406, 'train_micro_f1': 0.8145688093539002, 'train_macro_f1': 0.813947280244759, 'val_loss': 0.5170533657073975, 'val_micro_f1': 0.828, 'val_macro_f1': 0.8364820245698638, 'test_loss': 0.5211663842201233, 'test_micro_f1': 0.821, 'test_macro_f1': 0.8169038554993625}\n",
      "{'loss': 1.6454875469207764, 'train_loss': 0.5312356352806091, 'train_micro_f1': 0.815886260086732, 'train_macro_f1': 0.8151907265993477, 'val_loss': 0.5141927003860474, 'val_micro_f1': 0.83, 'val_macro_f1': 0.8381272236535394, 'test_loss': 0.517223060131073, 'test_micro_f1': 0.824, 'test_macro_f1': 0.8193301237857081}\n",
      "{'loss': 1.6278975009918213, 'train_loss': 0.5286747813224792, 'train_micro_f1': 0.8172586046000988, 'train_macro_f1': 0.8165768796752907, 'val_loss': 0.5085949897766113, 'val_micro_f1': 0.832, 'val_macro_f1': 0.8397703831819454, 'test_loss': 0.5174388289451599, 'test_micro_f1': 0.823, 'test_macro_f1': 0.8180802417034853}\n",
      "{'loss': 1.6014128923416138, 'train_loss': 0.5249317288398743, 'train_micro_f1': 0.8174781797222375, 'train_macro_f1': 0.8168164685879825, 'val_loss': 0.5064056515693665, 'val_micro_f1': 0.834, 'val_macro_f1': 0.8422459572706341, 'test_loss': 0.5114824771881104, 'test_micro_f1': 0.825, 'test_macro_f1': 0.8208250198871089}\n",
      "{'loss': 1.5847200155258179, 'train_loss': 0.5223885178565979, 'train_micro_f1': 0.8181917988691881, 'train_macro_f1': 0.8175582801928244, 'val_loss': 0.5072295069694519, 'val_micro_f1': 0.834, 'val_macro_f1': 0.8422289165989457, 'test_loss': 0.5092030167579651, 'test_micro_f1': 0.826, 'test_macro_f1': 0.8216331623493272}\n",
      "{'loss': 1.555411458015442, 'train_loss': 0.5187143087387085, 'train_micro_f1': 0.8189603117966734, 'train_macro_f1': 0.8183101663587027, 'val_loss': 0.4995286464691162, 'val_micro_f1': 0.838, 'val_macro_f1': 0.8464863509506367, 'test_loss': 0.5078703165054321, 'test_micro_f1': 0.823, 'test_macro_f1': 0.819207560223898}\n",
      "{'loss': 1.5393165349960327, 'train_loss': 0.5162460207939148, 'train_micro_f1': 0.8196190371630894, 'train_macro_f1': 0.8190553985610296, 'val_loss': 0.4965986907482147, 'val_micro_f1': 0.838, 'val_macro_f1': 0.8464863509506367, 'test_loss': 0.5033463835716248, 'test_micro_f1': 0.823, 'test_macro_f1': 0.8192124272349349}\n",
      "{'loss': 1.5153155326843262, 'train_loss': 0.5133377313613892, 'train_micro_f1': 0.8202777625295055, 'train_macro_f1': 0.8197835291259193, 'val_loss': 0.49376651644706726, 'val_micro_f1': 0.838, 'val_macro_f1': 0.8464863509506367, 'test_loss': 0.49980854988098145, 'test_micro_f1': 0.826, 'test_macro_f1': 0.822751802160712}\n",
      "{'loss': 1.4964579343795776, 'train_loss': 0.5107484459877014, 'train_micro_f1': 0.82033265631004, 'train_macro_f1': 0.8198873595380048, 'val_loss': 0.49199816584587097, 'val_micro_f1': 0.838, 'val_macro_f1': 0.8464863509506367, 'test_loss': 0.4964436888694763, 'test_micro_f1': 0.827, 'test_macro_f1': 0.8242353148495702}\n",
      "{'loss': 1.4802104234695435, 'train_loss': 0.508325457572937, 'train_micro_f1': 0.8204424438711094, 'train_macro_f1': 0.8200914471343932, 'val_loss': 0.48876407742500305, 'val_micro_f1': 0.838, 'val_macro_f1': 0.8464684130720879, 'test_loss': 0.4966164231300354, 'test_micro_f1': 0.828, 'test_macro_f1': 0.8256978653530377}\n",
      "{'loss': 1.4576629400253296, 'train_loss': 0.505270779132843, 'train_micro_f1': 0.820826700334852, 'train_macro_f1': 0.8204423897959229, 'val_loss': 0.4875643849372864, 'val_micro_f1': 0.834, 'val_macro_f1': 0.8431831065759637, 'test_loss': 0.4923720955848694, 'test_micro_f1': 0.826, 'test_macro_f1': 0.823648054371415}\n",
      "{'loss': 1.439184546470642, 'train_loss': 0.5028979182243347, 'train_micro_f1': 0.8213756381401988, 'train_macro_f1': 0.821014916029049, 'val_loss': 0.4850645065307617, 'val_micro_f1': 0.838, 'val_macro_f1': 0.8464684130720879, 'test_loss': 0.48916095495224, 'test_micro_f1': 0.831, 'test_macro_f1': 0.8281373552199468}\n",
      "{'loss': 1.4226727485656738, 'train_loss': 0.5006406903266907, 'train_micro_f1': 0.8219245759455454, 'train_macro_f1': 0.8215276550302967, 'val_loss': 0.4836535155773163, 'val_micro_f1': 0.838, 'val_macro_f1': 0.845649597601846, 'test_loss': 0.4882241487503052, 'test_micro_f1': 0.831, 'test_macro_f1': 0.8285803370371569}\n",
      "{'loss': 1.4062597751617432, 'train_loss': 0.4986896216869354, 'train_micro_f1': 0.821814788384476, 'train_macro_f1': 0.8214018360564102, 'val_loss': 0.4785290062427521, 'val_micro_f1': 0.838, 'val_macro_f1': 0.845649597601846, 'test_loss': 0.48419487476348877, 'test_micro_f1': 0.831, 'test_macro_f1': 0.8285803370371569}\n",
      "{'loss': 1.386643648147583, 'train_loss': 0.49581557512283325, 'train_micro_f1': 0.8222539386287534, 'train_macro_f1': 0.8219921031257171, 'val_loss': 0.47596773505210876, 'val_micro_f1': 0.8399999999999999, 'val_macro_f1': 0.8482865978703847, 'test_loss': 0.48444658517837524, 'test_micro_f1': 0.831, 'test_macro_f1': 0.8285803370371569}\n",
      "{'loss': 1.3703194856643677, 'train_loss': 0.4936528503894806, 'train_micro_f1': 0.8227479826535653, 'train_macro_f1': 0.8223968819678569, 'val_loss': 0.4794163107872009, 'val_micro_f1': 0.8399999999999999, 'val_macro_f1': 0.8482865978703847, 'test_loss': 0.48041293025016785, 'test_micro_f1': 0.831, 'test_macro_f1': 0.8285803370371569}\n",
      "{'loss': 1.3533620834350586, 'train_loss': 0.49138060212135315, 'train_micro_f1': 0.8230224515562387, 'train_macro_f1': 0.8227707082689811, 'val_loss': 0.47189491987228394, 'val_micro_f1': 0.842, 'val_macro_f1': 0.8499278634010192, 'test_loss': 0.47856682538986206, 'test_micro_f1': 0.83, 'test_macro_f1': 0.8277727853353026}\n",
      "{'loss': 1.3412015438079834, 'train_loss': 0.48963794112205505, 'train_micro_f1': 0.8242301147280013, 'train_macro_f1': 0.8239388249558512, 'val_loss': 0.4698159396648407, 'val_micro_f1': 0.8459999999999999, 'val_macro_f1': 0.8541359521907151, 'test_loss': 0.4756758213043213, 'test_micro_f1': 0.832, 'test_macro_f1': 0.8293875190790744}\n",
      "{'loss': 1.321668267250061, 'train_loss': 0.4870661795139313, 'train_micro_f1': 0.8241752209474665, 'train_macro_f1': 0.8238807192752379, 'val_loss': 0.46929943561553955, 'val_micro_f1': 0.844, 'val_macro_f1': 0.8524932522783258, 'test_loss': 0.4734667241573334, 'test_micro_f1': 0.831, 'test_macro_f1': 0.8290359552701124}\n",
      "{'loss': 1.3115174770355225, 'train_loss': 0.48549336194992065, 'train_micro_f1': 0.824943733874952, 'train_macro_f1': 0.8248376614308355, 'val_loss': 0.46750131249427795, 'val_micro_f1': 0.8459999999999999, 'val_macro_f1': 0.8541359521907151, 'test_loss': 0.47233495116233826, 'test_micro_f1': 0.832, 'test_macro_f1': 0.8293803377667123}\n",
      "{'loss': 1.294101595878601, 'train_loss': 0.48326441645622253, 'train_micro_f1': 0.8256573530219026, 'train_macro_f1': 0.8255721720539689, 'val_loss': 0.4658876359462738, 'val_micro_f1': 0.8459999999999999, 'val_macro_f1': 0.8541359521907151, 'test_loss': 0.47082027792930603, 'test_micro_f1': 0.833, 'test_macro_f1': 0.8301877945245716}\n",
      "{'loss': 1.2820125818252563, 'train_loss': 0.4818960428237915, 'train_micro_f1': 0.826261184607784, 'train_macro_f1': 0.826147009005244, 'val_loss': 0.46384763717651367, 'val_micro_f1': 0.848, 'val_macro_f1': 0.8558077280970634, 'test_loss': 0.472243994474411, 'test_micro_f1': 0.834, 'test_macro_f1': 0.8309949005422123}\n",
      "{'loss': 1.2640327215194702, 'train_loss': 0.47942227125167847, 'train_micro_f1': 0.8264258659493879, 'train_macro_f1': 0.8263503586217077, 'val_loss': 0.4603118300437927, 'val_micro_f1': 0.8459999999999999, 'val_macro_f1': 0.8541359521907151, 'test_loss': 0.4673612713813782, 'test_micro_f1': 0.834, 'test_macro_f1': 0.8309949005422123}\n",
      "{'loss': 1.2511881589889526, 'train_loss': 0.47785618901252747, 'train_micro_f1': 0.8264807597299226, 'train_macro_f1': 0.826424269214954, 'val_loss': 0.45997196435928345, 'val_micro_f1': 0.8459999999999999, 'val_macro_f1': 0.8541359521907151, 'test_loss': 0.4693496525287628, 'test_micro_f1': 0.83, 'test_macro_f1': 0.8271018727324706}\n",
      "{'loss': 1.2353758811950684, 'train_loss': 0.47613251209259033, 'train_micro_f1': 0.8265356535104573, 'train_macro_f1': 0.8264158255654114, 'val_loss': 0.45688197016716003, 'val_micro_f1': 0.844, 'val_macro_f1': 0.8524631692276027, 'test_loss': 0.4630151093006134, 'test_micro_f1': 0.834, 'test_macro_f1': 0.8309949005422123}\n",
      "{'loss': 1.2270346879959106, 'train_loss': 0.4744182229042053, 'train_micro_f1': 0.827084591315804, 'train_macro_f1': 0.8269445758091333, 'val_loss': 0.46056124567985535, 'val_micro_f1': 0.844, 'val_macro_f1': 0.8524631692276027, 'test_loss': 0.46257010102272034, 'test_micro_f1': 0.834, 'test_macro_f1': 0.8312104183515084}\n",
      "{'loss': 1.2123416662216187, 'train_loss': 0.47258538007736206, 'train_micro_f1': 0.8277982104627546, 'train_macro_f1': 0.8276855530918303, 'val_loss': 0.4536437392234802, 'val_micro_f1': 0.8459999999999999, 'val_macro_f1': 0.8541028110710261, 'test_loss': 0.4609193503856659, 'test_micro_f1': 0.8370000000000001, 'test_macro_f1': 0.8340816009287414}\n",
      "{'loss': 1.1995793581008911, 'train_loss': 0.47112414240837097, 'train_micro_f1': 0.8274139539990121, 'train_macro_f1': 0.8272951729733445, 'val_loss': 0.4520924687385559, 'val_micro_f1': 0.8459999999999999, 'val_macro_f1': 0.8541028110710261, 'test_loss': 0.4583216607570648, 'test_micro_f1': 0.836, 'test_macro_f1': 0.8328309272252054}\n",
      "{'loss': 1.1853742599487305, 'train_loss': 0.46903905272483826, 'train_micro_f1': 0.8282373607070318, 'train_macro_f1': 0.8281499601114994, 'val_loss': 0.45211246609687805, 'val_micro_f1': 0.8459999999999999, 'val_macro_f1': 0.8541028110710261, 'test_loss': 0.4576205313205719, 'test_micro_f1': 0.8370000000000001, 'test_macro_f1': 0.834297703900592}\n",
      "{'loss': 1.1779556274414062, 'train_loss': 0.4683946371078491, 'train_micro_f1': 0.8285667233902398, 'train_macro_f1': 0.8284134322219766, 'val_loss': 0.45204177498817444, 'val_micro_f1': 0.8459999999999999, 'val_macro_f1': 0.8541028110710261, 'test_loss': 0.45718592405319214, 'test_micro_f1': 0.8370000000000001, 'test_macro_f1': 0.834297703900592}\n",
      "{'loss': 1.1648260354995728, 'train_loss': 0.46649277210235596, 'train_micro_f1': 0.8291705549761212, 'train_macro_f1': 0.8290587981502674, 'val_loss': 0.44877517223358154, 'val_micro_f1': 0.848, 'val_macro_f1': 0.8557769492008456, 'test_loss': 0.45519760251045227, 'test_micro_f1': 0.839, 'test_macro_f1': 0.8365611579431791}\n",
      "{'loss': 1.1504430770874023, 'train_loss': 0.4646984338760376, 'train_micro_f1': 0.8294450238787946, 'train_macro_f1': 0.8293424017637939, 'val_loss': 0.4475761950016022, 'val_micro_f1': 0.844, 'val_macro_f1': 0.8515316605837099, 'test_loss': 0.4546028673648834, 'test_micro_f1': 0.841, 'test_macro_f1': 0.8388188621903941}\n",
      "{'loss': 1.1387029886245728, 'train_loss': 0.46322712302207947, 'train_micro_f1': 0.8293352363177252, 'train_macro_f1': 0.8292753186135635, 'val_loss': 0.44881030917167664, 'val_micro_f1': 0.844, 'val_macro_f1': 0.8515316605837099, 'test_loss': 0.45131877064704895, 'test_micro_f1': 0.841, 'test_macro_f1': 0.8388173939903626}\n",
      "{'loss': 1.1271768808364868, 'train_loss': 0.4615548551082611, 'train_micro_f1': 0.8301586430257452, 'train_macro_f1': 0.830106412606313, 'val_loss': 0.4454306662082672, 'val_micro_f1': 0.844, 'val_macro_f1': 0.8515316605837099, 'test_loss': 0.4523780047893524, 'test_micro_f1': 0.841, 'test_macro_f1': 0.8388173939903626}\n",
      "{'loss': 1.1166590452194214, 'train_loss': 0.4605140686035156, 'train_micro_f1': 0.8304880057089532, 'train_macro_f1': 0.830423466533782, 'val_loss': 0.4423379600048065, 'val_micro_f1': 0.844, 'val_macro_f1': 0.8515316605837099, 'test_loss': 0.44966810941696167, 'test_micro_f1': 0.8399999999999999, 'test_macro_f1': 0.8380092012382573}\n",
      "{'loss': 1.1090601682662964, 'train_loss': 0.45934852957725525, 'train_micro_f1': 0.8307075808310919, 'train_macro_f1': 0.8306786452470508, 'val_loss': 0.44252920150756836, 'val_micro_f1': 0.844, 'val_macro_f1': 0.8515316605837099, 'test_loss': 0.45131102204322815, 'test_micro_f1': 0.8399999999999999, 'test_macro_f1': 0.8373670443962947}\n",
      "{'loss': 1.097884178161621, 'train_loss': 0.4580969512462616, 'train_micro_f1': 0.8309271559532305, 'train_macro_f1': 0.8309134600382814, 'val_loss': 0.4398714303970337, 'val_micro_f1': 0.842, 'val_macro_f1': 0.8498571540225474, 'test_loss': 0.4491059482097626, 'test_micro_f1': 0.841, 'test_macro_f1': 0.8388173939903626}\n",
      "{'loss': 1.0868072509765625, 'train_loss': 0.45665931701660156, 'train_micro_f1': 0.8309271559532305, 'train_macro_f1': 0.8309721352655032, 'val_loss': 0.4423070251941681, 'val_micro_f1': 0.842, 'val_macro_f1': 0.8498571540225474, 'test_loss': 0.44520053267478943, 'test_micro_f1': 0.841, 'test_macro_f1': 0.8388173939903626}\n",
      "{'loss': 1.0811882019042969, 'train_loss': 0.45576396584510803, 'train_micro_f1': 0.8316956688807158, 'train_macro_f1': 0.8316979669901725, 'val_loss': 0.44013512134552, 'val_micro_f1': 0.8399999999999999, 'val_macro_f1': 0.8481815112893489, 'test_loss': 0.4470635950565338, 'test_micro_f1': 0.841, 'test_macro_f1': 0.8388173939903626}\n",
      "{'loss': 1.0679826736450195, 'train_loss': 0.4542103707790375, 'train_micro_f1': 0.8321348191249931, 'train_macro_f1': 0.8321441731755641, 'val_loss': 0.43640121817588806, 'val_micro_f1': 0.842, 'val_macro_f1': 0.8498135161184538, 'test_loss': 0.44395139813423157, 'test_micro_f1': 0.841, 'test_macro_f1': 0.8388173939903626}\n",
      "{'loss': 1.0606766939163208, 'train_loss': 0.45338118076324463, 'train_micro_f1': 0.8322446066860625, 'train_macro_f1': 0.8322130711096419, 'val_loss': 0.435181200504303, 'val_micro_f1': 0.842, 'val_macro_f1': 0.8498135161184538, 'test_loss': 0.442486971616745, 'test_micro_f1': 0.841, 'test_macro_f1': 0.8381721973753608}\n",
      "{'loss': 1.050422191619873, 'train_loss': 0.452378511428833, 'train_micro_f1': 0.8322446066860625, 'train_macro_f1': 0.8321799842419328, 'val_loss': 0.43423303961753845, 'val_micro_f1': 0.842, 'val_macro_f1': 0.8498135161184538, 'test_loss': 0.4412567615509033, 'test_micro_f1': 0.8399999999999999, 'test_macro_f1': 0.8373638507760331}\n",
      "{'loss': 1.038339614868164, 'train_loss': 0.45069146156311035, 'train_micro_f1': 0.8322995004665973, 'train_macro_f1': 0.8323010334467309, 'val_loss': 0.43527480959892273, 'val_micro_f1': 0.842, 'val_macro_f1': 0.8498135161184538, 'test_loss': 0.44009825587272644, 'test_micro_f1': 0.8399999999999999, 'test_macro_f1': 0.8373638507760331}\n",
      "{'loss': 1.0289627313613892, 'train_loss': 0.44968006014823914, 'train_micro_f1': 0.8330131196135478, 'train_macro_f1': 0.8330393394094759, 'val_loss': 0.4332656264305115, 'val_micro_f1': 0.842, 'val_macro_f1': 0.8498135161184538, 'test_loss': 0.4388343393802643, 'test_micro_f1': 0.841, 'test_macro_f1': 0.8381721973753608}\n",
      "{'loss': 1.0209358930587769, 'train_loss': 0.448516845703125, 'train_micro_f1': 0.8333973760772904, 'train_macro_f1': 0.833517218752348, 'val_loss': 0.4311771094799042, 'val_micro_f1': 0.842, 'val_macro_f1': 0.8498135161184538, 'test_loss': 0.43834608793258667, 'test_micro_f1': 0.839, 'test_macro_f1': 0.8365550265319017}\n",
      "{'loss': 1.0119545459747314, 'train_loss': 0.44718167185783386, 'train_micro_f1': 0.8336718449799636, 'train_macro_f1': 0.8338175825161064, 'val_loss': 0.43020808696746826, 'val_micro_f1': 0.842, 'val_macro_f1': 0.8498135161184538, 'test_loss': 0.4385375380516052, 'test_micro_f1': 0.841, 'test_macro_f1': 0.8388142350316049}\n",
      "{'loss': 1.005088448524475, 'train_loss': 0.4463900923728943, 'train_micro_f1': 0.8341109952242411, 'train_macro_f1': 0.8342278266274833, 'val_loss': 0.43295735120773315, 'val_micro_f1': 0.842, 'val_macro_f1': 0.8489003878567454, 'test_loss': 0.4375138580799103, 'test_micro_f1': 0.842, 'test_macro_f1': 0.8396227769800065}\n",
      "{'loss': 0.9973136186599731, 'train_loss': 0.44531846046447754, 'train_micro_f1': 0.8343854641269144, 'train_macro_f1': 0.8345827216193201, 'val_loss': 0.4280890226364136, 'val_micro_f1': 0.842, 'val_macro_f1': 0.8498135161184538, 'test_loss': 0.4359472393989563, 'test_micro_f1': 0.843, 'test_macro_f1': 0.8404323675417329}\n",
      "{'loss': 0.9905785322189331, 'train_loss': 0.4444867670536041, 'train_micro_f1': 0.834605039249053, 'train_macro_f1': 0.8348675792876894, 'val_loss': 0.43103423714637756, 'val_micro_f1': 0.842, 'val_macro_f1': 0.8498135161184538, 'test_loss': 0.4369507133960724, 'test_micro_f1': 0.844, 'test_macro_f1': 0.8416872659789919}\n",
      "{'loss': 0.981661856174469, 'train_loss': 0.44345712661743164, 'train_micro_f1': 0.8348795081517264, 'train_macro_f1': 0.8351381815442203, 'val_loss': 0.42785224318504333, 'val_micro_f1': 0.8399999999999999, 'val_macro_f1': 0.8473256527702988, 'test_loss': 0.43429288268089294, 'test_micro_f1': 0.844, 'test_macro_f1': 0.8416872659789919}\n",
      "{'loss': 0.9757359623908997, 'train_loss': 0.442953497171402, 'train_micro_f1': 0.8349344019322611, 'train_macro_f1': 0.8351541701218895, 'val_loss': 0.4256936311721802, 'val_micro_f1': 0.842, 'val_macro_f1': 0.8490074429772921, 'test_loss': 0.4333454370498657, 'test_micro_f1': 0.844, 'test_macro_f1': 0.8416872659789919}\n",
      "{'loss': 0.9657108783721924, 'train_loss': 0.44126754999160767, 'train_micro_f1': 0.8355382335181424, 'train_macro_f1': 0.8357464207878994, 'val_loss': 0.42485690116882324, 'val_micro_f1': 0.842, 'val_macro_f1': 0.8490074429772921, 'test_loss': 0.4327140748500824, 'test_micro_f1': 0.844, 'test_macro_f1': 0.8416872659789919}\n",
      "{'loss': 0.9537460207939148, 'train_loss': 0.44009631872177124, 'train_micro_f1': 0.8361969588845584, 'train_macro_f1': 0.836446035546639, 'val_loss': 0.42403680086135864, 'val_micro_f1': 0.842, 'val_macro_f1': 0.8490074429772921, 'test_loss': 0.4323667287826538, 'test_micro_f1': 0.845, 'test_macro_f1': 0.84249671345468}\n",
      "{'loss': 0.9502044320106506, 'train_loss': 0.4395870864391327, 'train_micro_f1': 0.8366361091288357, 'train_macro_f1': 0.8368841533142491, 'val_loss': 0.4250277578830719, 'val_micro_f1': 0.842, 'val_macro_f1': 0.8490074429772921, 'test_loss': 0.43301719427108765, 'test_micro_f1': 0.845, 'test_macro_f1': 0.84249671345468}\n",
      "{'loss': 0.9461232423782349, 'train_loss': 0.43880021572113037, 'train_micro_f1': 0.8370203655925783, 'train_macro_f1': 0.8372612531924662, 'val_loss': 0.4199848771095276, 'val_micro_f1': 0.842, 'val_macro_f1': 0.8490074429772921, 'test_loss': 0.42934614419937134, 'test_micro_f1': 0.845, 'test_macro_f1': 0.84249671345468}\n",
      "{'loss': 0.9345470070838928, 'train_loss': 0.43764880299568176, 'train_micro_f1': 0.837404622056321, 'train_macro_f1': 0.8377139221237825, 'val_loss': 0.42168205976486206, 'val_micro_f1': 0.842, 'val_macro_f1': 0.8490074429772921, 'test_loss': 0.43022266030311584, 'test_micro_f1': 0.844, 'test_macro_f1': 0.8410434916940789}\n",
      "{'loss': 0.9306201338768005, 'train_loss': 0.43701741099357605, 'train_micro_f1': 0.8374595158368557, 'train_macro_f1': 0.8378702741019683, 'val_loss': 0.42480790615081787, 'val_micro_f1': 0.838, 'val_macro_f1': 0.8457405222686396, 'test_loss': 0.4284977912902832, 'test_micro_f1': 0.845, 'test_macro_f1': 0.84249671345468}\n",
      "{'loss': 0.9249210953712463, 'train_loss': 0.43638932704925537, 'train_micro_f1': 0.837239940714717, 'train_macro_f1': 0.8376556186140028, 'val_loss': 0.4221612513065338, 'val_micro_f1': 0.842, 'val_macro_f1': 0.8490540158021821, 'test_loss': 0.4297543168067932, 'test_micro_f1': 0.8459999999999999, 'test_macro_f1': 0.84330441303346}\n",
      "{'loss': 0.9159309267997742, 'train_loss': 0.4356158971786499, 'train_micro_f1': 0.8376241971784597, 'train_macro_f1': 0.8380262855273983, 'val_loss': 0.422265887260437, 'val_micro_f1': 0.8399999999999999, 'val_macro_f1': 0.8464692182067087, 'test_loss': 0.42645391821861267, 'test_micro_f1': 0.8459999999999999, 'test_macro_f1': 0.84330441303346}\n",
      "{'loss': 0.9100743532180786, 'train_loss': 0.4349323511123657, 'train_micro_f1': 0.8379535598616676, 'train_macro_f1': 0.8383853946268903, 'val_loss': 0.41996368765830994, 'val_micro_f1': 0.842, 'val_macro_f1': 0.8490540158021821, 'test_loss': 0.426282674074173, 'test_micro_f1': 0.8459999999999999, 'test_macro_f1': 0.84330441303346}\n",
      "{'loss': 0.898114025592804, 'train_loss': 0.43327829241752625, 'train_micro_f1': 0.838722072789153, 'train_macro_f1': 0.8391338092683189, 'val_loss': 0.4180898070335388, 'val_micro_f1': 0.844, 'val_macro_f1': 0.8507321295218794, 'test_loss': 0.4263325035572052, 'test_micro_f1': 0.848, 'test_macro_f1': 0.844921560087928}\n",
      "{'loss': 0.893963098526001, 'train_loss': 0.4325481951236725, 'train_micro_f1': 0.8387769665696876, 'train_macro_f1': 0.8392013917372423, 'val_loss': 0.4174184203147888, 'val_micro_f1': 0.844, 'val_macro_f1': 0.8507321295218794, 'test_loss': 0.42294740676879883, 'test_micro_f1': 0.8459999999999999, 'test_macro_f1': 0.8428615300599712}\n",
      "{'loss': 0.8883951902389526, 'train_loss': 0.4322708249092102, 'train_micro_f1': 0.8387769665696876, 'train_macro_f1': 0.8392838831494892, 'val_loss': 0.4167635440826416, 'val_micro_f1': 0.844, 'val_macro_f1': 0.8507321295218794, 'test_loss': 0.4240824580192566, 'test_micro_f1': 0.8459999999999999, 'test_macro_f1': 0.8426569344209627}\n",
      "{'loss': 0.8821836113929749, 'train_loss': 0.4310062527656555, 'train_micro_f1': 0.8394905857166383, 'train_macro_f1': 0.8399525605583014, 'val_loss': 0.4179220199584961, 'val_micro_f1': 0.842, 'val_macro_f1': 0.8490540158021821, 'test_loss': 0.4261285364627838, 'test_micro_f1': 0.848, 'test_macro_f1': 0.8453687988277423}\n",
      "{'loss': 0.8826649785041809, 'train_loss': 0.43106698989868164, 'train_micro_f1': 0.8397101608387769, 'train_macro_f1': 0.8401351695980673, 'val_loss': 0.41548287868499756, 'val_micro_f1': 0.842, 'val_macro_f1': 0.8490540158021821, 'test_loss': 0.4255632162094116, 'test_micro_f1': 0.848, 'test_macro_f1': 0.8453687988277423}\n",
      "{'loss': 0.8701395392417908, 'train_loss': 0.4295397400856018, 'train_micro_f1': 0.840039523521985, 'train_macro_f1': 0.8404594531442702, 'val_loss': 0.4169905483722687, 'val_micro_f1': 0.842, 'val_macro_f1': 0.8490540158021821, 'test_loss': 0.42499110102653503, 'test_micro_f1': 0.847, 'test_macro_f1': 0.8439128586538018}\n",
      "{'loss': 0.865540087223053, 'train_loss': 0.429216593503952, 'train_micro_f1': 0.840039523521985, 'train_macro_f1': 0.8404277584990597, 'val_loss': 0.41634729504585266, 'val_micro_f1': 0.842, 'val_macro_f1': 0.8490540158021821, 'test_loss': 0.4235142469406128, 'test_micro_f1': 0.85, 'test_macro_f1': 0.847438266379608}\n",
      "{'loss': 0.8532633185386658, 'train_loss': 0.4276786148548126, 'train_micro_f1': 0.8402042048635889, 'train_macro_f1': 0.8406439173029719, 'val_loss': 0.41366204619407654, 'val_micro_f1': 0.842, 'val_macro_f1': 0.8490540158021821, 'test_loss': 0.42276865243911743, 'test_micro_f1': 0.849, 'test_macro_f1': 0.8461774257836384}\n",
      "{'loss': 0.8542628288269043, 'train_loss': 0.42795562744140625, 'train_micro_f1': 0.840533567546797, 'train_macro_f1': 0.840962036874079, 'val_loss': 0.4152023494243622, 'val_micro_f1': 0.842, 'val_macro_f1': 0.8490540158021821, 'test_loss': 0.42021384835243225, 'test_micro_f1': 0.85, 'test_macro_f1': 0.847438266379608}\n",
      "{'loss': 0.8472837209701538, 'train_loss': 0.4269063472747803, 'train_micro_f1': 0.8406433551078663, 'train_macro_f1': 0.8410052189388751, 'val_loss': 0.4125063419342041, 'val_micro_f1': 0.842, 'val_macro_f1': 0.8490540158021821, 'test_loss': 0.4203176200389862, 'test_micro_f1': 0.849, 'test_macro_f1': 0.8466294952410246}\n",
      "{'loss': 0.8378269672393799, 'train_loss': 0.4259364604949951, 'train_micro_f1': 0.8410825053521435, 'train_macro_f1': 0.8414352935567458, 'val_loss': 0.4119468033313751, 'val_micro_f1': 0.842, 'val_macro_f1': 0.8490540158021821, 'test_loss': 0.4196232855319977, 'test_micro_f1': 0.849, 'test_macro_f1': 0.8466294952410246}\n",
      "{'loss': 0.8364086151123047, 'train_loss': 0.42550498247146606, 'train_micro_f1': 0.8412471866937477, 'train_macro_f1': 0.8415941440418129, 'val_loss': 0.41139742732048035, 'val_micro_f1': 0.8399999999999999, 'val_macro_f1': 0.8465871196963635, 'test_loss': 0.4185762107372284, 'test_micro_f1': 0.848, 'test_macro_f1': 0.8460101638742415}\n",
      "{'loss': 0.8302744030952454, 'train_loss': 0.4252564609050751, 'train_micro_f1': 0.8408629302300049, 'train_macro_f1': 0.841189418421528, 'val_loss': 0.41281992197036743, 'val_micro_f1': 0.8399999999999999, 'val_macro_f1': 0.8465871196963635, 'test_loss': 0.41804933547973633, 'test_micro_f1': 0.848, 'test_macro_f1': 0.8460101638742415}\n",
      "{'loss': 0.8268652558326721, 'train_loss': 0.4245823919773102, 'train_micro_f1': 0.8413569742548169, 'train_macro_f1': 0.8416604786314573, 'val_loss': 0.4122103452682495, 'val_micro_f1': 0.838, 'val_macro_f1': 0.8449521939938737, 'test_loss': 0.4191470146179199, 'test_micro_f1': 0.848, 'test_macro_f1': 0.8460101638742415}\n",
      "{'loss': 0.8225559592247009, 'train_loss': 0.4241740107536316, 'train_micro_f1': 0.841027611571609, 'train_macro_f1': 0.841327329613847, 'val_loss': 0.4131760895252228, 'val_micro_f1': 0.8399999999999999, 'val_macro_f1': 0.8465871196963635, 'test_loss': 0.4170258641242981, 'test_micro_f1': 0.847, 'test_macro_f1': 0.8452008062156958}\n",
      "{'loss': 0.8199241757392883, 'train_loss': 0.4236372709274292, 'train_micro_f1': 0.8410825053521435, 'train_macro_f1': 0.8413788598686106, 'val_loss': 0.4124053120613098, 'val_micro_f1': 0.8399999999999999, 'val_macro_f1': 0.8465871196963635, 'test_loss': 0.4190238416194916, 'test_micro_f1': 0.848, 'test_macro_f1': 0.8466454813417575}\n",
      "{'loss': 0.8088490962982178, 'train_loss': 0.42233264446258545, 'train_micro_f1': 0.8418510182796289, 'train_macro_f1': 0.8421428994186918, 'val_loss': 0.41054314374923706, 'val_micro_f1': 0.842, 'val_macro_f1': 0.8482699495569946, 'test_loss': 0.4166724383831024, 'test_micro_f1': 0.849, 'test_macro_f1': 0.8470053579037903}\n",
      "{'loss': 0.8048977255821228, 'train_loss': 0.42183828353881836, 'train_micro_f1': 0.8416314431574903, 'train_macro_f1': 0.8418867341356845, 'val_loss': 0.4101870059967041, 'val_micro_f1': 0.8399999999999999, 'val_macro_f1': 0.8465871196963635, 'test_loss': 0.4151982367038727, 'test_micro_f1': 0.85, 'test_macro_f1': 0.8487148507184165}\n",
      "{'loss': 0.7987457513809204, 'train_loss': 0.4210992753505707, 'train_micro_f1': 0.8417412307185596, 'train_macro_f1': 0.8419937466681309, 'val_loss': 0.4092302620410919, 'val_micro_f1': 0.838, 'val_macro_f1': 0.8449521939938737, 'test_loss': 0.41770845651626587, 'test_micro_f1': 0.847, 'test_macro_f1': 0.8452008062156958}\n",
      "{'loss': 0.7910282015800476, 'train_loss': 0.4203232228755951, 'train_micro_f1': 0.8419608058406982, 'train_macro_f1': 0.8422681694278685, 'val_loss': 0.4090595543384552, 'val_micro_f1': 0.842, 'val_macro_f1': 0.8490540158021821, 'test_loss': 0.41555073857307434, 'test_micro_f1': 0.849, 'test_macro_f1': 0.8474538147545082}\n",
      "{'loss': 0.7933093309402466, 'train_loss': 0.4203013777732849, 'train_micro_f1': 0.8421254871823023, 'train_macro_f1': 0.8424248057112741, 'val_loss': 0.40688374638557434, 'val_micro_f1': 0.8399999999999999, 'val_macro_f1': 0.8465871196963635, 'test_loss': 0.4170208275318146, 'test_micro_f1': 0.85, 'test_macro_f1': 0.8482636138518855}\n",
      "{'loss': 0.7877017855644226, 'train_loss': 0.41950199007987976, 'train_micro_f1': 0.8428940001097875, 'train_macro_f1': 0.8432819232453594, 'val_loss': 0.4061434268951416, 'val_micro_f1': 0.8399999999999999, 'val_macro_f1': 0.8465871196963635, 'test_loss': 0.41312316060066223, 'test_micro_f1': 0.851, 'test_macro_f1': 0.8490719591807715}\n",
      "{'loss': 0.7796723246574402, 'train_loss': 0.4188494086265564, 'train_micro_f1': 0.8428391063292529, 'train_macro_f1': 0.8430959193726352, 'val_loss': 0.40597835183143616, 'val_micro_f1': 0.8399999999999999, 'val_macro_f1': 0.8465871196963635, 'test_loss': 0.41200244426727295, 'test_micro_f1': 0.85, 'test_macro_f1': 0.8482636138518855}\n",
      "{'loss': 0.7766427397727966, 'train_loss': 0.41839125752449036, 'train_micro_f1': 0.8429488938903222, 'train_macro_f1': 0.843306637278149, 'val_loss': 0.41180169582366943, 'val_micro_f1': 0.8399999999999999, 'val_macro_f1': 0.8465871196963635, 'test_loss': 0.41284817457199097, 'test_micro_f1': 0.849, 'test_macro_f1': 0.847003286110514}\n",
      "{'loss': 0.7723518013954163, 'train_loss': 0.41767963767051697, 'train_micro_f1': 0.8434429379151342, 'train_macro_f1': 0.8437989182693543, 'val_loss': 0.4050474762916565, 'val_micro_f1': 0.8399999999999999, 'val_macro_f1': 0.8465871196963635, 'test_loss': 0.4138016104698181, 'test_micro_f1': 0.848, 'test_macro_f1': 0.8461923497737089}\n",
      "{'loss': 0.7701959013938904, 'train_loss': 0.41751208901405334, 'train_micro_f1': 0.8432782565735302, 'train_macro_f1': 0.8436568116050772, 'val_loss': 0.4068116247653961, 'val_micro_f1': 0.8399999999999999, 'val_macro_f1': 0.8465871196963635, 'test_loss': 0.4140305817127228, 'test_micro_f1': 0.85, 'test_macro_f1': 0.8478114844656605}\n",
      "{'loss': 0.7641894817352295, 'train_loss': 0.4165630042552948, 'train_micro_f1': 0.8438820881594116, 'train_macro_f1': 0.8443882406269169, 'val_loss': 0.40641361474990845, 'val_micro_f1': 0.8399999999999999, 'val_macro_f1': 0.8465871196963635, 'test_loss': 0.41264793276786804, 'test_micro_f1': 0.85, 'test_macro_f1': 0.8478114844656605}\n",
      "{'loss': 0.7593957185745239, 'train_loss': 0.4162255823612213, 'train_micro_f1': 0.8437723005983421, 'train_macro_f1': 0.8441854723301788, 'val_loss': 0.40571027994155884, 'val_micro_f1': 0.8399999999999999, 'val_macro_f1': 0.8465871196963635, 'test_loss': 0.41276657581329346, 'test_micro_f1': 0.85, 'test_macro_f1': 0.8478114844656605}\n",
      "{'loss': 0.7542089223861694, 'train_loss': 0.4157712161540985, 'train_micro_f1': 0.8437174068178075, 'train_macro_f1': 0.8441447460441691, 'val_loss': 0.40539345145225525, 'val_micro_f1': 0.838, 'val_macro_f1': 0.8449031460906236, 'test_loss': 0.4140012264251709, 'test_micro_f1': 0.849, 'test_macro_f1': 0.8463660019224392}\n",
      "{'loss': 0.7511820793151855, 'train_loss': 0.4151289761066437, 'train_micro_f1': 0.8441565570620848, 'train_macro_f1': 0.8445860901641317, 'val_loss': 0.4030245542526245, 'val_micro_f1': 0.838, 'val_macro_f1': 0.8449031460906236, 'test_loss': 0.4130956530570984, 'test_micro_f1': 0.852, 'test_macro_f1': 0.8498780857426417}\n",
      "{'loss': 0.749153196811676, 'train_loss': 0.4148072898387909, 'train_micro_f1': 0.8441016632815503, 'train_macro_f1': 0.8444808673939802, 'val_loss': 0.4048023521900177, 'val_micro_f1': 0.838, 'val_macro_f1': 0.8449031460906236, 'test_loss': 0.40999725461006165, 'test_micro_f1': 0.85, 'test_macro_f1': 0.8478114844656605}\n",
      "{'loss': 0.7479078769683838, 'train_loss': 0.414690762758255, 'train_micro_f1': 0.8439369819399462, 'train_macro_f1': 0.8443403248964046, 'val_loss': 0.39942583441734314, 'val_micro_f1': 0.838, 'val_macro_f1': 0.8449031460906236, 'test_loss': 0.41165488958358765, 'test_micro_f1': 0.85, 'test_macro_f1': 0.8478114844656605}\n",
      "{'loss': 0.7380918264389038, 'train_loss': 0.4135037958621979, 'train_micro_f1': 0.8441565570620848, 'train_macro_f1': 0.8446202035404812, 'val_loss': 0.4032321870326996, 'val_micro_f1': 0.838, 'val_macro_f1': 0.8449031460906236, 'test_loss': 0.41129279136657715, 'test_micro_f1': 0.851, 'test_macro_f1': 0.8492515969613095}\n",
      "{'loss': 0.7389633059501648, 'train_loss': 0.41383880376815796, 'train_micro_f1': 0.8444859197452927, 'train_macro_f1': 0.8448397000145264, 'val_loss': 0.4010769724845886, 'val_micro_f1': 0.8399999999999999, 'val_macro_f1': 0.8465871196963635, 'test_loss': 0.4102576971054077, 'test_micro_f1': 0.851, 'test_macro_f1': 0.8492515969613095}\n",
      "{'loss': 0.7310665845870972, 'train_loss': 0.4123280942440033, 'train_micro_f1': 0.8447054948674315, 'train_macro_f1': 0.8451677004752994, 'val_loss': 0.40110254287719727, 'val_micro_f1': 0.838, 'val_macro_f1': 0.8449031460906236, 'test_loss': 0.41091808676719666, 'test_micro_f1': 0.85, 'test_macro_f1': 0.8484425546434641}\n",
      "{'loss': 0.730252206325531, 'train_loss': 0.41235432028770447, 'train_micro_f1': 0.8445408135258275, 'train_macro_f1': 0.8449680984552369, 'val_loss': 0.4060353636741638, 'val_micro_f1': 0.838, 'val_macro_f1': 0.8449031460906236, 'test_loss': 0.40807560086250305, 'test_micro_f1': 0.851, 'test_macro_f1': 0.8492515969613095}\n",
      "{'loss': 0.7277795076370239, 'train_loss': 0.4118916094303131, 'train_micro_f1': 0.8451995388922434, 'train_macro_f1': 0.8455698033040674, 'val_loss': 0.40283074975013733, 'val_micro_f1': 0.842, 'val_macro_f1': 0.8482204088537301, 'test_loss': 0.4111802577972412, 'test_micro_f1': 0.851, 'test_macro_f1': 0.8492515969613095}\n",
      "{'loss': 0.7238386273384094, 'train_loss': 0.41161707043647766, 'train_micro_f1': 0.8450348575506396, 'train_macro_f1': 0.8454431162896592, 'val_loss': 0.4053288996219635, 'val_micro_f1': 0.838, 'val_macro_f1': 0.8449031460906236, 'test_loss': 0.41015976667404175, 'test_micro_f1': 0.851, 'test_macro_f1': 0.8492515969613095}\n",
      "{'loss': 0.7177583575248718, 'train_loss': 0.410801500082016, 'train_micro_f1': 0.8450897513311741, 'train_macro_f1': 0.8454129250449837, 'val_loss': 0.4039367437362671, 'val_micro_f1': 0.8399999999999999, 'val_macro_f1': 0.8465350444457803, 'test_loss': 0.4097161889076233, 'test_micro_f1': 0.85, 'test_macro_f1': 0.8484425546434641}\n",
      "{'loss': 0.7182505130767822, 'train_loss': 0.41069427132606506, 'train_micro_f1': 0.8455837953559862, 'train_macro_f1': 0.8459356741372179, 'val_loss': 0.401289701461792, 'val_micro_f1': 0.842, 'val_macro_f1': 0.8482204088537301, 'test_loss': 0.40932321548461914, 'test_micro_f1': 0.851, 'test_macro_f1': 0.8492515969613095}\n",
      "{'loss': 0.7110642790794373, 'train_loss': 0.4103187322616577, 'train_micro_f1': 0.8457484766975901, 'train_macro_f1': 0.8460629493121282, 'val_loss': 0.39897656440734863, 'val_micro_f1': 0.842, 'val_macro_f1': 0.8482204088537301, 'test_loss': 0.40953049063682556, 'test_micro_f1': 0.851, 'test_macro_f1': 0.8492515969613095}\n",
      "{'loss': 0.7095513343811035, 'train_loss': 0.40950819849967957, 'train_micro_f1': 0.8460229456002635, 'train_macro_f1': 0.8462940538847303, 'val_loss': 0.3986380994319916, 'val_micro_f1': 0.842, 'val_macro_f1': 0.8482204088537301, 'test_loss': 0.41144484281539917, 'test_micro_f1': 0.85, 'test_macro_f1': 0.8478114844656605}\n",
      "{'loss': 0.7015746831893921, 'train_loss': 0.4087699353694916, 'train_micro_f1': 0.8459680518197289, 'train_macro_f1': 0.8462590029040234, 'val_loss': 0.39975592494010925, 'val_micro_f1': 0.842, 'val_macro_f1': 0.8482204088537301, 'test_loss': 0.40725940465927124, 'test_micro_f1': 0.852, 'test_macro_f1': 0.8500626652755631}\n",
      "{'loss': 0.6992840766906738, 'train_loss': 0.40890008211135864, 'train_micro_f1': 0.8464620958445408, 'train_macro_f1': 0.8467283950113836, 'val_loss': 0.39797741174697876, 'val_micro_f1': 0.842, 'val_macro_f1': 0.8482204088537301, 'test_loss': 0.4070620536804199, 'test_micro_f1': 0.851, 'test_macro_f1': 0.8492515969613095}\n",
      "{'loss': 0.6970601677894592, 'train_loss': 0.4079802334308624, 'train_micro_f1': 0.846901246088818, 'train_macro_f1': 0.8471637490730353, 'val_loss': 0.39911872148513794, 'val_micro_f1': 0.844, 'val_macro_f1': 0.8499046083079697, 'test_loss': 0.4051094949245453, 'test_micro_f1': 0.851, 'test_macro_f1': 0.8492515969613095}\n",
      "{'loss': 0.6939907073974609, 'train_loss': 0.4080549478530884, 'train_micro_f1': 0.8467365647472141, 'train_macro_f1': 0.8470539782950555, 'val_loss': 0.3994022011756897, 'val_micro_f1': 0.842, 'val_macro_f1': 0.8482204088537301, 'test_loss': 0.40584230422973633, 'test_micro_f1': 0.851, 'test_macro_f1': 0.8492515969613095}\n",
      "{'loss': 0.6905363202095032, 'train_loss': 0.407667338848114, 'train_micro_f1': 0.8469561398693528, 'train_macro_f1': 0.8472557598681362, 'val_loss': 0.40087151527404785, 'val_micro_f1': 0.8399999999999999, 'val_macro_f1': 0.8457632396340394, 'test_loss': 0.4044821262359619, 'test_micro_f1': 0.852, 'test_macro_f1': 0.8500626652755631}\n",
      "{'loss': 0.6892868876457214, 'train_loss': 0.4073775112628937, 'train_micro_f1': 0.8467914585277488, 'train_macro_f1': 0.8470571061673954, 'val_loss': 0.39670369029045105, 'val_micro_f1': 0.842, 'val_macro_f1': 0.8482204088537301, 'test_loss': 0.40878060460090637, 'test_micro_f1': 0.852, 'test_macro_f1': 0.8500626652755631}\n",
      "{'loss': 0.6862106323242188, 'train_loss': 0.4071955382823944, 'train_micro_f1': 0.8467914585277488, 'train_macro_f1': 0.8470371205627697, 'val_loss': 0.39781951904296875, 'val_micro_f1': 0.8399999999999999, 'val_macro_f1': 0.8465871196963635, 'test_loss': 0.40446436405181885, 'test_micro_f1': 0.852, 'test_macro_f1': 0.8500626652755631}\n",
      "{'loss': 0.6779038906097412, 'train_loss': 0.40620192885398865, 'train_micro_f1': 0.8468463523082834, 'train_macro_f1': 0.8470512780038156, 'val_loss': 0.396093487739563, 'val_micro_f1': 0.842, 'val_macro_f1': 0.8482204088537301, 'test_loss': 0.40565574169158936, 'test_micro_f1': 0.852, 'test_macro_f1': 0.8500626652755631}\n",
      "{'loss': 0.6755222082138062, 'train_loss': 0.40543684363365173, 'train_micro_f1': 0.8471208212109568, 'train_macro_f1': 0.84734743450163, 'val_loss': 0.39951854944229126, 'val_micro_f1': 0.838, 'val_macro_f1': 0.8431857591521458, 'test_loss': 0.4045950174331665, 'test_micro_f1': 0.853, 'test_macro_f1': 0.850873432189314}\n",
      "{'loss': 0.6752930879592896, 'train_loss': 0.40557175874710083, 'train_micro_f1': 0.8473952901136302, 'train_macro_f1': 0.8476290544166843, 'val_loss': 0.3996223211288452, 'val_micro_f1': 0.8399999999999999, 'val_macro_f1': 0.8456352508063874, 'test_loss': 0.4046296179294586, 'test_micro_f1': 0.852, 'test_macro_f1': 0.8500626652755631}\n",
      "{'loss': 0.6683143377304077, 'train_loss': 0.40508708357810974, 'train_micro_f1': 0.8475050776746995, 'train_macro_f1': 0.8476912927548682, 'val_loss': 0.39519307017326355, 'val_micro_f1': 0.842, 'val_macro_f1': 0.8482204088537301, 'test_loss': 0.40375638008117676, 'test_micro_f1': 0.852, 'test_macro_f1': 0.8500626652755631}\n",
      "{'loss': 0.6666198968887329, 'train_loss': 0.4049377143383026, 'train_micro_f1': 0.8476697590163035, 'train_macro_f1': 0.8479292939727648, 'val_loss': 0.3994760811328888, 'val_micro_f1': 0.8399999999999999, 'val_macro_f1': 0.8457632396340394, 'test_loss': 0.4023948013782501, 'test_micro_f1': 0.852, 'test_macro_f1': 0.8500626652755631}\n",
      "{'loss': 0.6673699617385864, 'train_loss': 0.40457653999328613, 'train_micro_f1': 0.8478893341384421, 'train_macro_f1': 0.8481028670654022, 'val_loss': 0.3946133255958557, 'val_micro_f1': 0.842, 'val_macro_f1': 0.8482204088537301, 'test_loss': 0.40538501739501953, 'test_micro_f1': 0.854, 'test_macro_f1': 0.8516805178604091}\n",
      "{'loss': 0.6644526720046997, 'train_loss': 0.40423235297203064, 'train_micro_f1': 0.8477795465773726, 'train_macro_f1': 0.8479770581697759, 'val_loss': 0.3943311870098114, 'val_micro_f1': 0.842, 'val_macro_f1': 0.8482204088537301, 'test_loss': 0.40491777658462524, 'test_micro_f1': 0.853, 'test_macro_f1': 0.8508717243371805}\n",
      "{'loss': 0.6604458093643188, 'train_loss': 0.40384641289711, 'train_micro_f1': 0.8477246527968381, 'train_macro_f1': 0.8479448845783878, 'val_loss': 0.3940512537956238, 'val_micro_f1': 0.842, 'val_macro_f1': 0.8482204088537301, 'test_loss': 0.40254172682762146, 'test_micro_f1': 0.853, 'test_macro_f1': 0.8508717243371805}\n",
      "{'loss': 0.6581941246986389, 'train_loss': 0.4033905565738678, 'train_micro_f1': 0.8479442279189768, 'train_macro_f1': 0.8481602255126411, 'val_loss': 0.3952842354774475, 'val_micro_f1': 0.842, 'val_macro_f1': 0.8474052757588342, 'test_loss': 0.4043360650539398, 'test_micro_f1': 0.853, 'test_macro_f1': 0.8508717243371805}\n",
      "{'loss': 0.6511568427085876, 'train_loss': 0.4027930796146393, 'train_micro_f1': 0.8478893341384421, 'train_macro_f1': 0.8481563584559927, 'val_loss': 0.393499493598938, 'val_micro_f1': 0.842, 'val_macro_f1': 0.8474052757588342, 'test_loss': 0.404080867767334, 'test_micro_f1': 0.852, 'test_macro_f1': 0.8500626652755631}\n",
      "{'loss': 0.6502810120582581, 'train_loss': 0.402310311794281, 'train_micro_f1': 0.8483284843827195, 'train_macro_f1': 0.8486001174400393, 'val_loss': 0.3953987956047058, 'val_micro_f1': 0.842, 'val_macro_f1': 0.8474052757588342, 'test_loss': 0.4015366733074188, 'test_micro_f1': 0.852, 'test_macro_f1': 0.8500626652755631}\n",
      "{'loss': 0.6489619612693787, 'train_loss': 0.4020683169364929, 'train_micro_f1': 0.8489872097491354, 'train_macro_f1': 0.8491489273543325, 'val_loss': 0.3951454162597656, 'val_micro_f1': 0.844, 'val_macro_f1': 0.8490902069582272, 'test_loss': 0.4002496302127838, 'test_micro_f1': 0.853, 'test_macro_f1': 0.8508717243371805}\n",
      "{'loss': 0.6475872993469238, 'train_loss': 0.4022265076637268, 'train_micro_f1': 0.8488225284075315, 'train_macro_f1': 0.8490669901959261, 'val_loss': 0.39269670844078064, 'val_micro_f1': 0.844, 'val_macro_f1': 0.8490902069582272, 'test_loss': 0.4017186164855957, 'test_micro_f1': 0.851, 'test_macro_f1': 0.8488020894363157}\n",
      "{'loss': 0.6475961804389954, 'train_loss': 0.4021654427051544, 'train_micro_f1': 0.8488225284075315, 'train_macro_f1': 0.8489633988361156, 'val_loss': 0.38933056592941284, 'val_micro_f1': 0.844, 'val_macro_f1': 0.8490902069582272, 'test_loss': 0.3999374508857727, 'test_micro_f1': 0.852, 'test_macro_f1': 0.8496145873069364}\n",
      "{'loss': 0.637788712978363, 'train_loss': 0.40113455057144165, 'train_micro_f1': 0.8492067848712741, 'train_macro_f1': 0.849417676985076, 'val_loss': 0.3921736776828766, 'val_micro_f1': 0.844, 'val_macro_f1': 0.8490902069582272, 'test_loss': 0.3986433148384094, 'test_micro_f1': 0.852, 'test_macro_f1': 0.8491692502870986}\n",
      "{'loss': 0.6429214477539062, 'train_loss': 0.4010327160358429, 'train_micro_f1': 0.8494812537739475, 'train_macro_f1': 0.8496497456969062, 'val_loss': 0.3958628177642822, 'val_micro_f1': 0.844, 'val_macro_f1': 0.8490902069582272, 'test_loss': 0.4066043496131897, 'test_micro_f1': 0.851, 'test_macro_f1': 0.8483607484046938}\n",
      "{'loss': 0.636267900466919, 'train_loss': 0.40051910281181335, 'train_micro_f1': 0.849536147554482, 'train_macro_f1': 0.8496523739555863, 'val_loss': 0.39583054184913635, 'val_micro_f1': 0.844, 'val_macro_f1': 0.8490902069582272, 'test_loss': 0.40132129192352295, 'test_micro_f1': 0.852, 'test_macro_f1': 0.8491692502870986}\n",
      "{'loss': 0.6301532983779907, 'train_loss': 0.3998185992240906, 'train_micro_f1': 0.850030191579294, 'train_macro_f1': 0.8501233389524372, 'val_loss': 0.39357709884643555, 'val_micro_f1': 0.844, 'val_macro_f1': 0.8490902069582272, 'test_loss': 0.4023895561695099, 'test_micro_f1': 0.851, 'test_macro_f1': 0.8483607484046938}\n",
      "{'loss': 0.6274509429931641, 'train_loss': 0.3996292054653168, 'train_micro_f1': 0.8498655102376901, 'train_macro_f1': 0.8499219914880131, 'val_loss': 0.3911500573158264, 'val_micro_f1': 0.844, 'val_macro_f1': 0.8490902069582272, 'test_loss': 0.40062931180000305, 'test_micro_f1': 0.852, 'test_macro_f1': 0.8491692502870986}\n",
      "{'loss': 0.6289997100830078, 'train_loss': 0.3995090126991272, 'train_micro_f1': 0.8499204040182248, 'train_macro_f1': 0.8499627145328136, 'val_loss': 0.3908994197845459, 'val_micro_f1': 0.844, 'val_macro_f1': 0.8490902069582272, 'test_loss': 0.4000472128391266, 'test_micro_f1': 0.852, 'test_macro_f1': 0.8491692502870986}\n",
      "{'loss': 0.6249921917915344, 'train_loss': 0.3994658887386322, 'train_micro_f1': 0.8499752977987595, 'train_macro_f1': 0.8500824824350443, 'val_loss': 0.39065343141555786, 'val_micro_f1': 0.844, 'val_macro_f1': 0.8490902069582272, 'test_loss': 0.39912572503089905, 'test_micro_f1': 0.851, 'test_macro_f1': 0.8477325172920729}\n",
      "{'loss': 0.6206322908401489, 'train_loss': 0.3985879123210907, 'train_micro_f1': 0.8505791293846408, 'train_macro_f1': 0.85064653749735, 'val_loss': 0.3894806206226349, 'val_micro_f1': 0.844, 'val_macro_f1': 0.8498584104917318, 'test_loss': 0.3979245126247406, 'test_micro_f1': 0.851, 'test_macro_f1': 0.8477325172920729}\n",
      "{'loss': 0.6200554370880127, 'train_loss': 0.3987177014350891, 'train_micro_f1': 0.8504144480430367, 'train_macro_f1': 0.8505400949402461, 'val_loss': 0.3901646137237549, 'val_micro_f1': 0.842, 'val_macro_f1': 0.8474052757588342, 'test_loss': 0.4013797342777252, 'test_micro_f1': 0.851, 'test_macro_f1': 0.8477325172920729}\n",
      "{'loss': 0.6194900870323181, 'train_loss': 0.3984096646308899, 'train_micro_f1': 0.8505242356041062, 'train_macro_f1': 0.8506431675555239, 'val_loss': 0.3919002115726471, 'val_micro_f1': 0.842, 'val_macro_f1': 0.8474052757588342, 'test_loss': 0.3985334634780884, 'test_micro_f1': 0.852, 'test_macro_f1': 0.8485453016151335}\n",
      "{'loss': 0.6175973415374756, 'train_loss': 0.39811891317367554, 'train_micro_f1': 0.8510731734094527, 'train_macro_f1': 0.8510790785788784, 'val_loss': 0.39150816202163696, 'val_micro_f1': 0.842, 'val_macro_f1': 0.8474052757588342, 'test_loss': 0.4007001221179962, 'test_micro_f1': 0.851, 'test_macro_f1': 0.8477325172920729}\n",
      "{'loss': 0.6152587532997131, 'train_loss': 0.39811229705810547, 'train_micro_f1': 0.8509633858483834, 'train_macro_f1': 0.8509667745378146, 'val_loss': 0.39142054319381714, 'val_micro_f1': 0.844, 'val_macro_f1': 0.8499754518786146, 'test_loss': 0.39951691031455994, 'test_micro_f1': 0.851, 'test_macro_f1': 0.8477325172920729}\n",
      "{'loss': 0.614879846572876, 'train_loss': 0.3978337347507477, 'train_micro_f1': 0.8510731734094527, 'train_macro_f1': 0.851047868035192, 'val_loss': 0.3892161250114441, 'val_micro_f1': 0.844, 'val_macro_f1': 0.8499754518786146, 'test_loss': 0.3994755446910858, 'test_micro_f1': 0.85, 'test_macro_f1': 0.8469194153265617}\n",
      "{'loss': 0.6085546612739563, 'train_loss': 0.3970071077346802, 'train_micro_f1': 0.8516221112147994, 'train_macro_f1': 0.8516096881090314, 'val_loss': 0.3909534811973572, 'val_micro_f1': 0.844, 'val_macro_f1': 0.8499754518786146, 'test_loss': 0.3982592523097992, 'test_micro_f1': 0.849, 'test_macro_f1': 0.8454781717810597}\n",
      "{'loss': 0.6056246757507324, 'train_loss': 0.39666035771369934, 'train_micro_f1': 0.851677004995334, 'train_macro_f1': 0.8517437895048321, 'val_loss': 0.3887507915496826, 'val_micro_f1': 0.844, 'val_macro_f1': 0.8499754518786146, 'test_loss': 0.39823663234710693, 'test_micro_f1': 0.85, 'test_macro_f1': 0.8469194153265617}\n",
      "{'loss': 0.6039859056472778, 'train_loss': 0.3963627815246582, 'train_micro_f1': 0.8517867925564033, 'train_macro_f1': 0.8518122876405644, 'val_loss': 0.392074853181839, 'val_micro_f1': 0.842, 'val_macro_f1': 0.8473652547586799, 'test_loss': 0.3965713679790497, 'test_micro_f1': 0.85, 'test_macro_f1': 0.847356691638605}\n",
      "{'loss': 0.60450679063797, 'train_loss': 0.39637529850006104, 'train_micro_f1': 0.851677004995334, 'train_macro_f1': 0.8516737056545122, 'val_loss': 0.3883003294467926, 'val_micro_f1': 0.844, 'val_macro_f1': 0.8499754518786146, 'test_loss': 0.39711493253707886, 'test_micro_f1': 0.851, 'test_macro_f1': 0.8481696451390462}\n",
      "{'loss': 0.6008363962173462, 'train_loss': 0.3960929811000824, 'train_micro_f1': 0.8514025360926607, 'train_macro_f1': 0.8513999484886211, 'val_loss': 0.38807573914527893, 'val_micro_f1': 0.844, 'val_macro_f1': 0.8499754518786146, 'test_loss': 0.39819514751434326, 'test_micro_f1': 0.851, 'test_macro_f1': 0.8481696451390462}\n",
      "{'loss': 0.59844571352005, 'train_loss': 0.3957774341106415, 'train_micro_f1': 0.8519514738980074, 'train_macro_f1': 0.8519954209027375, 'val_loss': 0.3878539502620697, 'val_micro_f1': 0.844, 'val_macro_f1': 0.8499754518786146, 'test_loss': 0.3971089720726013, 'test_micro_f1': 0.85, 'test_macro_f1': 0.8469241551640153}\n",
      "{'loss': 0.5959304571151733, 'train_loss': 0.3953794240951538, 'train_micro_f1': 0.8521161552396114, 'train_macro_f1': 0.8522067554642515, 'val_loss': 0.38763436675071716, 'val_micro_f1': 0.844, 'val_macro_f1': 0.8499754518786146, 'test_loss': 0.39442819356918335, 'test_micro_f1': 0.851, 'test_macro_f1': 0.847736653034636}\n",
      "{'loss': 0.5906373262405396, 'train_loss': 0.39470773935317993, 'train_micro_f1': 0.852500411703354, 'train_macro_f1': 0.8526019334190101, 'val_loss': 0.38741540908813477, 'val_micro_f1': 0.844, 'val_macro_f1': 0.8499754518786146, 'test_loss': 0.3941025137901306, 'test_micro_f1': 0.85, 'test_macro_f1': 0.8469241551640153}\n",
      "{'loss': 0.5929704308509827, 'train_loss': 0.3948046565055847, 'train_micro_f1': 0.8526101992644234, 'train_macro_f1': 0.8526656081338101, 'val_loss': 0.3893696963787079, 'val_micro_f1': 0.848, 'val_macro_f1': 0.853300803538699, 'test_loss': 0.3963966965675354, 'test_micro_f1': 0.849, 'test_macro_f1': 0.8454788946885529}\n"
     ]
    }
   ]
  },
  {
   "cell_type": "code",
   "execution_count": null,
   "outputs": [],
   "source": [],
   "metadata": {
    "collapsed": false,
    "pycharm": {
     "name": "#%%\n"
    }
   }
  }
 ],
 "metadata": {
  "kernelspec": {
   "display_name": "PyCharm (decimation_branch_mark)",
   "language": "python",
   "name": "pycharm-daac98f4"
  },
  "language_info": {
   "codemirror_mode": {
    "name": "ipython",
    "version": 3
   },
   "file_extension": ".py",
   "mimetype": "text/x-python",
   "name": "python",
   "nbconvert_exporter": "python",
   "pygments_lexer": "ipython3",
   "version": "3.6.9"
  }
 },
 "nbformat": 4,
 "nbformat_minor": 1
}