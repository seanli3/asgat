{
 "cells": [
  {
   "cell_type": "code",
   "execution_count": 6,
   "metadata": {
    "collapsed": true
   },
   "outputs": [
    {
     "data": {
      "text/plain": "<torch._C.Generator at 0x7f27d1ed74d0>"
     },
     "execution_count": 6,
     "metadata": {},
     "output_type": "execute_result"
    }
   ],
   "source": [
    "import networkx as nx\n",
    "from graphrole import RecursiveFeatureExtractor, RoleExtractor\n",
    "import torch.nn.functional as F\n",
    "import torch\n",
    "from model.layers import GraphSpectralFilterLayer, AnalysisFilter\n",
    "from model.spectral_filter import Graph\n",
    "from random import seed as rseed\n",
    "from numpy.random import seed as nseed\n",
    "import time\n",
    "import matplotlib.pyplot as plt\n",
    "import numpy as np\n",
    "\n",
    "from sklearn.datasets import fetch_openml\n",
    "from sklearn.linear_model import LogisticRegression\n",
    "from sklearn.model_selection import train_test_split\n",
    "from sklearn.preprocessing import StandardScaler\n",
    "from sklearn.utils import check_random_state\n",
    "\n",
    "rseed(729)\n",
    "nseed(729)\n",
    "torch.manual_seed(729)\n"
   ]
  },
  {
   "cell_type": "code",
   "execution_count": 7,
   "outputs": [],
   "source": [],
   "metadata": {
    "collapsed": false,
    "pycharm": {
     "name": "#%%\n"
    }
   }
  },
  {
   "cell_type": "code",
   "execution_count": 24,
   "outputs": [],
   "source": [
    "from sklearn.datasets import load_iris\n",
    "iris= load_iris()\n",
    "# Store features matrix in X\n",
    "x= torch.tensor(iris.data).float()\n",
    "#Store target vector in\n",
    "y= torch.tensor(iris.target)"
   ],
   "metadata": {
    "collapsed": false,
    "pycharm": {
     "name": "#%%\n"
    }
   }
  },
  {
   "cell_type": "code",
   "execution_count": 26,
   "outputs": [
    {
     "name": "stdout",
     "output_type": "stream",
     "text": [
      "torch.Size([60, 1])\n"
     ]
    }
   ],
   "source": [
    "from sklearn.model_selection import train_test_split\n",
    "\n",
    "train_idx, test_idx, _, _ = train_test_split(list(range(x.shape[0])), list(range(x.shape[0])), test_size=0.6, random_state=42)\n",
    "val_idx, test_idx, _, _ = train_test_split(test_idx, test_idx, test_size=0.5)\n",
    "\n",
    "\n",
    "def index_to_mask(index, size):\n",
    "    mask = torch.zeros(size, dtype=torch.bool, device=index.device)\n",
    "    mask[index] = 1\n",
    "    return mask\n",
    "\n",
    "train_mask = index_to_mask(torch.tensor(train_idx), y.shape[0])\n",
    "val_mask = index_to_mask(torch.tensor(val_idx), y.shape[0])\n",
    "test_mask = index_to_mask(torch.tensor(test_idx), y.shape[0])\n",
    "print(train_mask.nonzero().shape)"
   ],
   "metadata": {
    "collapsed": false,
    "pycharm": {
     "name": "#%%\n"
    }
   }
  },
  {
   "cell_type": "code",
   "execution_count": 27,
   "outputs": [],
   "source": [
    "G = nx.complete_graph(x.shape[0])"
   ],
   "metadata": {
    "collapsed": false,
    "pycharm": {
     "name": "#%%\n"
    }
   }
  },
  {
   "cell_type": "code",
   "execution_count": 34,
   "outputs": [],
   "source": [
    "dropout = 0.\n",
    "heads = 1\n",
    "N = G.number_of_nodes()\n",
    "class Net(torch.nn.Module):\n",
    "    def __init__(self):\n",
    "        super(Net, self).__init__()\n",
    "        adj = torch.sparse_coo_tensor(torch.tensor(list(G.edges)).T, torch.ones(G.number_of_edges()), (N, N))\n",
    "        self.G = Graph(adj)\n",
    "        self.G.estimate_lmax()\n",
    "\n",
    "        self.analysis = GraphSpectralFilterLayer(self.G, x.shape[1], 64,\n",
    "                                                 dropout=dropout, out_channels=heads, alpha=0.2, chebyshev_order=16, concat=False)\n",
    "\n",
    "        self.synthesis = GraphSpectralFilterLayer(self.G, 64 * heads, y.max()+1, dropout=dropout,\n",
    "                                                  out_channels=1, alpha=0.2,\n",
    "                                                  chebyshev_order=16, concat=False)\n",
    "\n",
    "\n",
    "    def reset_parameters(self):\n",
    "        self.analysis.reset_parameters()\n",
    "        self.synthesis.reset_parameters()\n",
    "\n",
    "    def forward(self, input):\n",
    "        x = self.analysis(input)[0]\n",
    "        x = F.dropout(x, p=dropout, training=self.training)\n",
    "        x = self.synthesis(x)[0]\n",
    "        x = F.elu(x)\n",
    "\n",
    "        return F.log_softmax(x, dim=1), None, None\n"
   ],
   "metadata": {
    "collapsed": false,
    "pycharm": {
     "name": "#%%\n"
    }
   }
  },
  {
   "cell_type": "code",
   "execution_count": 35,
   "outputs": [
    {
     "name": "stdout",
     "output_type": "stream",
     "text": [
      "{'train_loss': 1.0720845460891724, 'train_acc': 0.4000000000000001, 'train_macro_f1': 0.1904761904761905, 'val_loss': 1.1219440698623657, 'val_acc': 0.35555555555555557, 'val_macro_f1': 0.17486338797814208, 'test_loss': 1.1552826166152954, 'test_acc': 0.2222222222222222, 'test_macro_f1': 0.1212121212121212, 'epoch': 10}\n",
      "{'train_loss': 1.0653417110443115, 'train_acc': 0.4000000000000001, 'train_macro_f1': 0.1904761904761905, 'val_loss': 1.1141564846038818, 'val_acc': 0.37777777777777777, 'val_macro_f1': 0.2128654970760234, 'test_loss': 1.1269581317901611, 'test_acc': 0.2222222222222222, 'test_macro_f1': 0.1212121212121212, 'epoch': 20}\n",
      "{'train_loss': 1.0587294101715088, 'train_acc': 0.4000000000000001, 'train_macro_f1': 0.1904761904761905, 'val_loss': 1.102262258529663, 'val_acc': 0.37777777777777777, 'val_macro_f1': 0.2128654970760234, 'test_loss': 1.1228251457214355, 'test_acc': 0.2222222222222222, 'test_macro_f1': 0.1212121212121212, 'epoch': 30}\n",
      "{'train_loss': 1.051590085029602, 'train_acc': 0.4000000000000001, 'train_macro_f1': 0.1904761904761905, 'val_loss': 1.0899733304977417, 'val_acc': 0.37777777777777777, 'val_macro_f1': 0.2128654970760234, 'test_loss': 1.1203557252883911, 'test_acc': 0.2222222222222222, 'test_macro_f1': 0.1212121212121212, 'epoch': 40}\n",
      "{'train_loss': 1.043608546257019, 'train_acc': 0.4000000000000001, 'train_macro_f1': 0.1904761904761905, 'val_loss': 1.078376054763794, 'val_acc': 0.37777777777777777, 'val_macro_f1': 0.2128654970760234, 'test_loss': 1.1099772453308105, 'test_acc': 0.2222222222222222, 'test_macro_f1': 0.1212121212121212, 'epoch': 50}\n",
      "{'train_loss': 1.0349560976028442, 'train_acc': 0.4000000000000001, 'train_macro_f1': 0.1904761904761905, 'val_loss': 1.0668275356292725, 'val_acc': 0.37777777777777777, 'val_macro_f1': 0.2128654970760234, 'test_loss': 1.0987797975540161, 'test_acc': 0.2222222222222222, 'test_macro_f1': 0.1212121212121212, 'epoch': 60}\n",
      "{'train_loss': 1.026003122329712, 'train_acc': 0.4000000000000001, 'train_macro_f1': 0.1904761904761905, 'val_loss': 1.0559141635894775, 'val_acc': 0.37777777777777777, 'val_macro_f1': 0.2128654970760234, 'test_loss': 1.08921217918396, 'test_acc': 0.2222222222222222, 'test_macro_f1': 0.1212121212121212, 'epoch': 70}\n",
      "{'train_loss': 1.0165438652038574, 'train_acc': 0.4000000000000001, 'train_macro_f1': 0.1904761904761905, 'val_loss': 1.0449464321136475, 'val_acc': 0.37777777777777777, 'val_macro_f1': 0.2128654970760234, 'test_loss': 1.0796563625335693, 'test_acc': 0.2222222222222222, 'test_macro_f1': 0.1212121212121212, 'epoch': 80}\n",
      "{'train_loss': 1.00651216506958, 'train_acc': 0.4000000000000001, 'train_macro_f1': 0.1904761904761905, 'val_loss': 1.0333718061447144, 'val_acc': 0.37777777777777777, 'val_macro_f1': 0.2128654970760234, 'test_loss': 1.0692957639694214, 'test_acc': 0.2222222222222222, 'test_macro_f1': 0.1212121212121212, 'epoch': 90}\n",
      "{'train_loss': 0.995945394039154, 'train_acc': 0.4000000000000001, 'train_macro_f1': 0.1904761904761905, 'val_loss': 1.0214619636535645, 'val_acc': 0.37777777777777777, 'val_macro_f1': 0.2128654970760234, 'test_loss': 1.0581218004226685, 'test_acc': 0.2222222222222222, 'test_macro_f1': 0.1212121212121212, 'epoch': 100}\n",
      "{'train_loss': 0.9846404790878296, 'train_acc': 0.45, 'train_macro_f1': 0.30864197530864196, 'val_loss': 1.0091451406478882, 'val_acc': 0.37777777777777777, 'val_macro_f1': 0.2128654970760234, 'test_loss': 1.0462719202041626, 'test_acc': 0.24444444444444444, 'test_macro_f1': 0.16049382716049382, 'epoch': 110}\n",
      "{'train_loss': 0.9724737405776978, 'train_acc': 0.48333333333333334, 'train_macro_f1': 0.36919831223628696, 'val_loss': 0.9960474371910095, 'val_acc': 0.4000000000000001, 'val_macro_f1': 0.24745762711864405, 'test_loss': 1.0334450006484985, 'test_acc': 0.3111111111111111, 'test_macro_f1': 0.25770308123249297, 'epoch': 120}\n",
      "{'train_loss': 0.9593148827552795, 'train_acc': 0.5166666666666667, 'train_macro_f1': 0.41991341991341996, 'val_loss': 0.9819787740707397, 'val_acc': 0.4222222222222222, 'val_macro_f1': 0.2791461412151067, 'test_loss': 1.0194683074951172, 'test_acc': 0.37777777777777777, 'test_macro_f1': 0.3333333333333333, 'epoch': 130}\n",
      "{'train_loss': 0.9449759125709534, 'train_acc': 0.55, 'train_macro_f1': 0.46621621621621623, 'val_loss': 0.9667495489120483, 'val_acc': 0.4666666666666667, 'val_macro_f1': 0.35826086956521735, 'test_loss': 1.0042293071746826, 'test_acc': 0.37777777777777777, 'test_macro_f1': 0.3425925925925926, 'epoch': 140}\n",
      "{'train_loss': 0.9297910332679749, 'train_acc': 0.5666666666666667, 'train_macro_f1': 0.49201877934272303, 'val_loss': 0.9507893919944763, 'val_acc': 0.4888888888888889, 'val_macro_f1': 0.4090909090909091, 'test_loss': 0.9883954524993896, 'test_acc': 0.4000000000000001, 'test_macro_f1': 0.3842735042735043, 'epoch': 150}\n",
      "{'train_loss': 0.9138823747634888, 'train_acc': 0.6, 'train_macro_f1': 0.553091684434968, 'val_loss': 0.9340885877609253, 'val_acc': 0.5111111111111111, 'val_macro_f1': 0.43472868217054267, 'test_loss': 0.9717881679534912, 'test_acc': 0.4666666666666667, 'test_macro_f1': 0.46357346357346363, 'epoch': 160}\n",
      "{'train_loss': 0.8972853422164917, 'train_acc': 0.6666666666666666, 'train_macro_f1': 0.6456349206349207, 'val_loss': 0.9168424606323242, 'val_acc': 0.5777777777777777, 'val_macro_f1': 0.5079365079365079, 'test_loss': 0.9544005393981934, 'test_acc': 0.4888888888888889, 'test_macro_f1': 0.4902109384868006, 'epoch': 170}\n",
      "{'train_loss': 0.879756510257721, 'train_acc': 0.7, 'train_macro_f1': 0.685824493731919, 'val_loss': 0.8987095952033997, 'val_acc': 0.6666666666666666, 'val_macro_f1': 0.6275415405850188, 'test_loss': 0.9360116124153137, 'test_acc': 0.5333333333333333, 'test_macro_f1': 0.5349460346079683, 'epoch': 180}\n",
      "{'train_loss': 0.8612216711044312, 'train_acc': 0.7, 'train_macro_f1': 0.685824493731919, 'val_loss': 0.8794033527374268, 'val_acc': 0.7333333333333333, 'val_macro_f1': 0.7078285181733457, 'test_loss': 0.9165796637535095, 'test_acc': 0.5777777777777777, 'test_macro_f1': 0.584279171644763, 'epoch': 190}\n",
      "{'train_loss': 0.8425875902175903, 'train_acc': 0.7333333333333333, 'train_macro_f1': 0.723038292529818, 'val_loss': 0.8598198890686035, 'val_acc': 0.7555555555555555, 'val_macro_f1': 0.7288679984332158, 'test_loss': 0.8968788385391235, 'test_acc': 0.6222222222222222, 'test_macro_f1': 0.6307519640852974, 'epoch': 200}\n",
      "{'train_loss': 0.8235171437263489, 'train_acc': 0.75, 'train_macro_f1': 0.740726933830382, 'val_loss': 0.8396829962730408, 'val_acc': 0.7777777777777778, 'val_macro_f1': 0.7496763625795883, 'test_loss': 0.8769241571426392, 'test_acc': 0.6888888888888889, 'test_macro_f1': 0.6960784313725491, 'epoch': 210}\n",
      "{'train_loss': 0.8039869666099548, 'train_acc': 0.7666666666666667, 'train_macro_f1': 0.7578947368421053, 'val_loss': 0.8191508054733276, 'val_acc': 0.8000000000000002, 'val_macro_f1': 0.7787647394940523, 'test_loss': 0.8563744425773621, 'test_acc': 0.7333333333333333, 'test_macro_f1': 0.7384619237222347, 'epoch': 220}\n",
      "{'train_loss': 0.784503161907196, 'train_acc': 0.7666666666666667, 'train_macro_f1': 0.7578947368421053, 'val_loss': 0.7986821532249451, 'val_acc': 0.8222222222222222, 'val_macro_f1': 0.8065540194572453, 'test_loss': 0.8358852863311768, 'test_acc': 0.7555555555555555, 'test_macro_f1': 0.7608437539472023, 'epoch': 230}\n",
      "{'train_loss': 0.7647767663002014, 'train_acc': 0.7833333333333333, 'train_macro_f1': 0.7746031746031746, 'val_loss': 0.7777568101882935, 'val_acc': 0.8222222222222222, 'val_macro_f1': 0.8065540194572453, 'test_loss': 0.815036416053772, 'test_acc': 0.8222222222222222, 'test_macro_f1': 0.825925925925926, 'epoch': 240}\n",
      "{'train_loss': 0.7445508241653442, 'train_acc': 0.7833333333333333, 'train_macro_f1': 0.7746031746031746, 'val_loss': 0.7562500834465027, 'val_acc': 0.8666666666666667, 'val_macro_f1': 0.8553921568627452, 'test_loss': 0.793605387210846, 'test_acc': 0.8444444444444444, 'test_macro_f1': 0.8490142316229273, 'epoch': 250}\n",
      "{'train_loss': 0.7242949604988098, 'train_acc': 0.8166666666666667, 'train_macro_f1': 0.8068654019873532, 'val_loss': 0.7347291707992554, 'val_acc': 0.8666666666666667, 'val_macro_f1': 0.8553921568627452, 'test_loss': 0.7720836400985718, 'test_acc': 0.8444444444444444, 'test_macro_f1': 0.8490142316229273, 'epoch': 260}\n",
      "{'train_loss': 0.7050725221633911, 'train_acc': 0.8666666666666667, 'train_macro_f1': 0.8595848595848595, 'val_loss': 0.7142892479896545, 'val_acc': 0.8666666666666667, 'val_macro_f1': 0.8553921568627452, 'test_loss': 0.7519569396972656, 'test_acc': 0.8444444444444444, 'test_macro_f1': 0.8490142316229273, 'epoch': 270}\n",
      "{'train_loss': 0.6862478256225586, 'train_acc': 0.8833333333333333, 'train_macro_f1': 0.8748465396892208, 'val_loss': 0.6941969394683838, 'val_acc': 0.8666666666666667, 'val_macro_f1': 0.8553921568627452, 'test_loss': 0.7321702837944031, 'test_acc': 0.8444444444444444, 'test_macro_f1': 0.8490142316229273, 'epoch': 280}\n",
      "{'train_loss': 0.6677922606468201, 'train_acc': 0.9166666666666666, 'train_macro_f1': 0.910869939707149, 'val_loss': 0.6743711829185486, 'val_acc': 0.8666666666666667, 'val_macro_f1': 0.8553921568627452, 'test_loss': 0.7127177119255066, 'test_acc': 0.8666666666666667, 'test_macro_f1': 0.8726209463051569, 'epoch': 290}\n",
      "{'train_loss': 0.6496545076370239, 'train_acc': 0.9166666666666666, 'train_macro_f1': 0.910869939707149, 'val_loss': 0.6547403931617737, 'val_acc': 0.8888888888888888, 'val_macro_f1': 0.8815656565656567, 'test_loss': 0.6935170292854309, 'test_acc': 0.8666666666666667, 'test_macro_f1': 0.8726209463051569, 'epoch': 300}\n",
      "{'train_loss': 0.6316009759902954, 'train_acc': 0.9166666666666666, 'train_macro_f1': 0.910869939707149, 'val_loss': 0.6350083351135254, 'val_acc': 0.9111111111111111, 'val_macro_f1': 0.907051282051282, 'test_loss': 0.6742908954620361, 'test_acc': 0.8666666666666667, 'test_macro_f1': 0.8726209463051569, 'epoch': 310}\n",
      "{'train_loss': 0.6133665442466736, 'train_acc': 0.9166666666666666, 'train_macro_f1': 0.910869939707149, 'val_loss': 0.6148179173469543, 'val_acc': 0.9111111111111111, 'val_macro_f1': 0.907051282051282, 'test_loss': 0.6547190546989441, 'test_acc': 0.9333333333333333, 'test_macro_f1': 0.9421009098428453, 'epoch': 320}\n",
      "{'train_loss': 0.5970859527587891, 'train_acc': 0.9166666666666666, 'train_macro_f1': 0.910869939707149, 'val_loss': 0.5973291397094727, 'val_acc': 0.9111111111111111, 'val_macro_f1': 0.907051282051282, 'test_loss': 0.6376931667327881, 'test_acc': 0.9333333333333333, 'test_macro_f1': 0.9421009098428453, 'epoch': 330}\n",
      "{'train_loss': 0.5815671682357788, 'train_acc': 0.9333333333333333, 'train_macro_f1': 0.9258572115714973, 'val_loss': 0.5806957483291626, 'val_acc': 0.9111111111111111, 'val_macro_f1': 0.907051282051282, 'test_loss': 0.6215181350708008, 'test_acc': 0.9333333333333333, 'test_macro_f1': 0.9421009098428453, 'epoch': 340}\n",
      "{'train_loss': 0.5667083859443665, 'train_acc': 0.9500000000000001, 'train_macro_f1': 0.9407407407407408, 'val_loss': 0.565247654914856, 'val_acc': 0.9111111111111111, 'val_macro_f1': 0.907051282051282, 'test_loss': 0.6069035530090332, 'test_acc': 0.9333333333333333, 'test_macro_f1': 0.9421009098428453, 'epoch': 350}\n",
      "{'train_loss': 0.5527693033218384, 'train_acc': 0.9333333333333333, 'train_macro_f1': 0.9268852571350258, 'val_loss': 0.5480765700340271, 'val_acc': 0.9111111111111111, 'val_macro_f1': 0.907051282051282, 'test_loss': 0.5886261463165283, 'test_acc': 0.9111111111111111, 'test_macro_f1': 0.9168647425014148, 'epoch': 360}\n",
      "{'train_loss': 0.5395883917808533, 'train_acc': 0.9333333333333333, 'train_macro_f1': 0.9268852571350258, 'val_loss': 0.5356017351150513, 'val_acc': 0.9111111111111111, 'val_macro_f1': 0.907051282051282, 'test_loss': 0.5778200030326843, 'test_acc': 0.9333333333333333, 'test_macro_f1': 0.9421009098428453, 'epoch': 370}\n",
      "{'train_loss': 0.5271062254905701, 'train_acc': 0.9333333333333333, 'train_macro_f1': 0.9268852571350258, 'val_loss': 0.5225273370742798, 'val_acc': 0.9111111111111111, 'val_macro_f1': 0.907051282051282, 'test_loss': 0.5654519200325012, 'test_acc': 0.9111111111111111, 'test_macro_f1': 0.9168647425014148, 'epoch': 380}\n",
      "{'train_loss': 0.5151702165603638, 'train_acc': 0.9333333333333333, 'train_macro_f1': 0.9268852571350258, 'val_loss': 0.5093258023262024, 'val_acc': 0.9111111111111111, 'val_macro_f1': 0.907051282051282, 'test_loss': 0.5523751378059387, 'test_acc': 0.9111111111111111, 'test_macro_f1': 0.9168647425014148, 'epoch': 390}\n",
      "{'train_loss': 0.5037599205970764, 'train_acc': 0.9166666666666666, 'train_macro_f1': 0.9130092164319731, 'val_loss': 0.4969097673892975, 'val_acc': 0.9111111111111111, 'val_macro_f1': 0.907051282051282, 'test_loss': 0.5402339696884155, 'test_acc': 0.9111111111111111, 'test_macro_f1': 0.9168647425014148, 'epoch': 400}\n",
      "{'train_loss': 0.492841511964798, 'train_acc': 0.9166666666666666, 'train_macro_f1': 0.9130092164319731, 'val_loss': 0.4850744903087616, 'val_acc': 0.9111111111111111, 'val_macro_f1': 0.907051282051282, 'test_loss': 0.5286774635314941, 'test_acc': 0.9111111111111111, 'test_macro_f1': 0.9168647425014148, 'epoch': 410}\n",
      "{'train_loss': 0.4823896586894989, 'train_acc': 0.9166666666666666, 'train_macro_f1': 0.9130092164319731, 'val_loss': 0.47363612055778503, 'val_acc': 0.9333333333333333, 'val_macro_f1': 0.9296969696969697, 'test_loss': 0.5172942876815796, 'test_acc': 0.9111111111111111, 'test_macro_f1': 0.9168647425014148, 'epoch': 420}\n",
      "{'train_loss': 0.4723808169364929, 'train_acc': 0.9166666666666666, 'train_macro_f1': 0.9130092164319731, 'val_loss': 0.4629373252391815, 'val_acc': 0.9333333333333333, 'val_macro_f1': 0.9296969696969697, 'test_loss': 0.5070086121559143, 'test_acc': 0.9111111111111111, 'test_macro_f1': 0.9168647425014148, 'epoch': 430}\n",
      "{'train_loss': 0.4628097712993622, 'train_acc': 0.9166666666666666, 'train_macro_f1': 0.9130092164319731, 'val_loss': 0.4529326856136322, 'val_acc': 0.9333333333333333, 'val_macro_f1': 0.9296969696969697, 'test_loss': 0.49793675541877747, 'test_acc': 0.9111111111111111, 'test_macro_f1': 0.9168647425014148, 'epoch': 440}\n",
      "{'train_loss': 0.4538499116897583, 'train_acc': 0.9, 'train_macro_f1': 0.8990740740740741, 'val_loss': 0.4419364631175995, 'val_acc': 0.9111111111111111, 'val_macro_f1': 0.9076622302428753, 'test_loss': 0.4846973121166229, 'test_acc': 0.9111111111111111, 'test_macro_f1': 0.9168647425014148, 'epoch': 450}\n",
      "{'train_loss': 0.44529494643211365, 'train_acc': 0.9, 'train_macro_f1': 0.8990740740740741, 'val_loss': 0.4332033693790436, 'val_acc': 0.9333333333333333, 'val_macro_f1': 0.9296969696969697, 'test_loss': 0.47690320014953613, 'test_acc': 0.9111111111111111, 'test_macro_f1': 0.9168647425014148, 'epoch': 460}\n",
      "{'train_loss': 0.43716058135032654, 'train_acc': 0.9, 'train_macro_f1': 0.8990740740740741, 'val_loss': 0.4247743487358093, 'val_acc': 0.9333333333333333, 'val_macro_f1': 0.9296969696969697, 'test_loss': 0.4693392813205719, 'test_acc': 0.9111111111111111, 'test_macro_f1': 0.9168647425014148, 'epoch': 470}\n",
      "{'train_loss': 0.4293821156024933, 'train_acc': 0.9, 'train_macro_f1': 0.8990740740740741, 'val_loss': 0.4164263904094696, 'val_acc': 0.9333333333333333, 'val_macro_f1': 0.9296969696969697, 'test_loss': 0.4612959921360016, 'test_acc': 0.9111111111111111, 'test_macro_f1': 0.9168647425014148, 'epoch': 480}\n",
      "{'train_loss': 0.4219115674495697, 'train_acc': 0.9, 'train_macro_f1': 0.8990740740740741, 'val_loss': 0.40831077098846436, 'val_acc': 0.9333333333333333, 'val_macro_f1': 0.9296969696969697, 'test_loss': 0.453163743019104, 'test_acc': 0.9111111111111111, 'test_macro_f1': 0.9168647425014148, 'epoch': 490}\n",
      "{'train_loss': 0.41472670435905457, 'train_acc': 0.9, 'train_macro_f1': 0.8990740740740741, 'val_loss': 0.4005427360534668, 'val_acc': 0.9333333333333333, 'val_macro_f1': 0.9296969696969697, 'test_loss': 0.44549933075904846, 'test_acc': 0.9111111111111111, 'test_macro_f1': 0.9168647425014148, 'epoch': 500}\n",
      "{'train_loss': 0.40781307220458984, 'train_acc': 0.9, 'train_macro_f1': 0.8990740740740741, 'val_loss': 0.3930955231189728, 'val_acc': 0.9333333333333333, 'val_macro_f1': 0.9296969696969697, 'test_loss': 0.4384128153324127, 'test_acc': 0.9111111111111111, 'test_macro_f1': 0.9168647425014148, 'epoch': 510}\n",
      "{'train_loss': 0.40115591883659363, 'train_acc': 0.9, 'train_macro_f1': 0.8990740740740741, 'val_loss': 0.38586804270744324, 'val_acc': 0.9333333333333333, 'val_macro_f1': 0.9296969696969697, 'test_loss': 0.43110543489456177, 'test_acc': 0.9111111111111111, 'test_macro_f1': 0.9168647425014148, 'epoch': 520}\n",
      "{'train_loss': 0.3947431743144989, 'train_acc': 0.9, 'train_macro_f1': 0.8990740740740741, 'val_loss': 0.3789122402667999, 'val_acc': 0.9333333333333333, 'val_macro_f1': 0.9296969696969697, 'test_loss': 0.4240727722644806, 'test_acc': 0.9111111111111111, 'test_macro_f1': 0.9168647425014148, 'epoch': 530}\n",
      "{'train_loss': 0.3887421786785126, 'train_acc': 0.9166666666666666, 'train_macro_f1': 0.9185072610604527, 'val_loss': 0.37231504917144775, 'val_acc': 0.8888888888888888, 'val_macro_f1': 0.885746352413019, 'test_loss': 0.4148228168487549, 'test_acc': 0.9111111111111111, 'test_macro_f1': 0.9168647425014148, 'epoch': 540}\n",
      "{'train_loss': 0.38288217782974243, 'train_acc': 0.9166666666666666, 'train_macro_f1': 0.9185072610604527, 'val_loss': 0.3657451570034027, 'val_acc': 0.9111111111111111, 'val_macro_f1': 0.9076622302428753, 'test_loss': 0.4093996286392212, 'test_acc': 0.9111111111111111, 'test_macro_f1': 0.9168647425014148, 'epoch': 550}\n",
      "{'train_loss': 0.37735888361930847, 'train_acc': 0.9166666666666666, 'train_macro_f1': 0.9185072610604527, 'val_loss': 0.35989537835121155, 'val_acc': 0.9111111111111111, 'val_macro_f1': 0.9076622302428753, 'test_loss': 0.4044623076915741, 'test_acc': 0.9111111111111111, 'test_macro_f1': 0.9168647425014148, 'epoch': 560}\n",
      "{'train_loss': 0.3721030652523041, 'train_acc': 0.9166666666666666, 'train_macro_f1': 0.9185072610604527, 'val_loss': 0.3542464077472687, 'val_acc': 0.9333333333333333, 'val_macro_f1': 0.9296969696969697, 'test_loss': 0.4001742899417877, 'test_acc': 0.9111111111111111, 'test_macro_f1': 0.9168647425014148, 'epoch': 570}\n",
      "{'train_loss': 0.3670111298561096, 'train_acc': 0.9166666666666666, 'train_macro_f1': 0.9185072610604527, 'val_loss': 0.3485937714576721, 'val_acc': 0.9333333333333333, 'val_macro_f1': 0.9296969696969697, 'test_loss': 0.3939908742904663, 'test_acc': 0.9111111111111111, 'test_macro_f1': 0.9168647425014148, 'epoch': 580}\n",
      "{'train_loss': 0.3620952367782593, 'train_acc': 0.9166666666666666, 'train_macro_f1': 0.9185072610604527, 'val_loss': 0.34317511320114136, 'val_acc': 0.9333333333333333, 'val_macro_f1': 0.9296969696969697, 'test_loss': 0.3881722390651703, 'test_acc': 0.9111111111111111, 'test_macro_f1': 0.9168647425014148, 'epoch': 590}\n",
      "{'train_loss': 0.3573349118232727, 'train_acc': 0.9166666666666666, 'train_macro_f1': 0.9185072610604527, 'val_loss': 0.33792823553085327, 'val_acc': 0.9333333333333333, 'val_macro_f1': 0.9296969696969697, 'test_loss': 0.38286125659942627, 'test_acc': 0.9111111111111111, 'test_macro_f1': 0.9168647425014148, 'epoch': 600}\n",
      "{'train_loss': 0.3527204692363739, 'train_acc': 0.9166666666666666, 'train_macro_f1': 0.9185072610604527, 'val_loss': 0.3328331708908081, 'val_acc': 0.9333333333333333, 'val_macro_f1': 0.9296969696969697, 'test_loss': 0.37777552008628845, 'test_acc': 0.9111111111111111, 'test_macro_f1': 0.9168647425014148, 'epoch': 610}\n",
      "{'train_loss': 0.3482460081577301, 'train_acc': 0.9166666666666666, 'train_macro_f1': 0.9185072610604527, 'val_loss': 0.3278825879096985, 'val_acc': 0.9333333333333333, 'val_macro_f1': 0.9296969696969697, 'test_loss': 0.37283775210380554, 'test_acc': 0.9111111111111111, 'test_macro_f1': 0.9168647425014148, 'epoch': 620}\n",
      "{'train_loss': 0.34390440583229065, 'train_acc': 0.9166666666666666, 'train_macro_f1': 0.9185072610604527, 'val_loss': 0.3230891227722168, 'val_acc': 0.9333333333333333, 'val_macro_f1': 0.9296969696969697, 'test_loss': 0.36792320013046265, 'test_acc': 0.9111111111111111, 'test_macro_f1': 0.9168647425014148, 'epoch': 630}\n",
      "{'train_loss': 0.33968988060951233, 'train_acc': 0.9166666666666666, 'train_macro_f1': 0.9185072610604527, 'val_loss': 0.31843000650405884, 'val_acc': 0.9333333333333333, 'val_macro_f1': 0.9296969696969697, 'test_loss': 0.3631289601325989, 'test_acc': 0.9111111111111111, 'test_macro_f1': 0.9168647425014148, 'epoch': 640}\n",
      "{'train_loss': 0.3355965316295624, 'train_acc': 0.9166666666666666, 'train_macro_f1': 0.9185072610604527, 'val_loss': 0.3138904273509979, 'val_acc': 0.9333333333333333, 'val_macro_f1': 0.9296969696969697, 'test_loss': 0.35847610235214233, 'test_acc': 0.9111111111111111, 'test_macro_f1': 0.9168647425014148, 'epoch': 650}\n",
      "{'train_loss': 0.3316194415092468, 'train_acc': 0.9166666666666666, 'train_macro_f1': 0.9185072610604527, 'val_loss': 0.30949294567108154, 'val_acc': 0.9333333333333333, 'val_macro_f1': 0.9296969696969697, 'test_loss': 0.35389164090156555, 'test_acc': 0.9111111111111111, 'test_macro_f1': 0.9168647425014148, 'epoch': 660}\n",
      "{'train_loss': 0.3278597295284271, 'train_acc': 0.9166666666666666, 'train_macro_f1': 0.9185072610604527, 'val_loss': 0.30577948689460754, 'val_acc': 0.9111111111111111, 'val_macro_f1': 0.9076622302428753, 'test_loss': 0.34811675548553467, 'test_acc': 0.9111111111111111, 'test_macro_f1': 0.9168647425014148, 'epoch': 670}\n",
      "{'train_loss': 0.32414838671684265, 'train_acc': 0.9166666666666666, 'train_macro_f1': 0.9185072610604527, 'val_loss': 0.3008371889591217, 'val_acc': 0.9333333333333333, 'val_macro_f1': 0.9296969696969697, 'test_loss': 0.3465825319290161, 'test_acc': 0.9333333333333333, 'test_macro_f1': 0.9359817813765181, 'epoch': 680}\n",
      "{'train_loss': 0.3205849826335907, 'train_acc': 0.9166666666666666, 'train_macro_f1': 0.9185072610604527, 'val_loss': 0.2971296012401581, 'val_acc': 0.9333333333333333, 'val_macro_f1': 0.9296969696969697, 'test_loss': 0.3413187265396118, 'test_acc': 0.9333333333333333, 'test_macro_f1': 0.9359817813765181, 'epoch': 690}\n",
      "{'train_loss': 0.3171912431716919, 'train_acc': 0.9166666666666666, 'train_macro_f1': 0.9185072610604527, 'val_loss': 0.29343244433403015, 'val_acc': 0.9333333333333333, 'val_macro_f1': 0.9296969696969697, 'test_loss': 0.33694636821746826, 'test_acc': 0.9333333333333333, 'test_macro_f1': 0.9359817813765181, 'epoch': 700}\n",
      "{'train_loss': 0.3138781189918518, 'train_acc': 0.9166666666666666, 'train_macro_f1': 0.9185072610604527, 'val_loss': 0.28969645500183105, 'val_acc': 0.9333333333333333, 'val_macro_f1': 0.9296969696969697, 'test_loss': 0.33316856622695923, 'test_acc': 0.9333333333333333, 'test_macro_f1': 0.9359817813765181, 'epoch': 710}\n",
      "{'train_loss': 0.3106471002101898, 'train_acc': 0.9166666666666666, 'train_macro_f1': 0.9185072610604527, 'val_loss': 0.28600797057151794, 'val_acc': 0.9333333333333333, 'val_macro_f1': 0.9296969696969697, 'test_loss': 0.3295362591743469, 'test_acc': 0.9333333333333333, 'test_macro_f1': 0.9359817813765181, 'epoch': 720}\n",
      "{'train_loss': 0.30749642848968506, 'train_acc': 0.9166666666666666, 'train_macro_f1': 0.9185072610604527, 'val_loss': 0.28240999579429626, 'val_acc': 0.9333333333333333, 'val_macro_f1': 0.9296969696969697, 'test_loss': 0.3259829878807068, 'test_acc': 0.9333333333333333, 'test_macro_f1': 0.9359817813765181, 'epoch': 730}\n",
      "{'train_loss': 0.3044223189353943, 'train_acc': 0.9166666666666666, 'train_macro_f1': 0.9185072610604527, 'val_loss': 0.27889952063560486, 'val_acc': 0.9333333333333333, 'val_macro_f1': 0.9296969696969697, 'test_loss': 0.32250916957855225, 'test_acc': 0.9333333333333333, 'test_macro_f1': 0.9359817813765181, 'epoch': 740}\n",
      "{'train_loss': 0.3014203906059265, 'train_acc': 0.9166666666666666, 'train_macro_f1': 0.9185072610604527, 'val_loss': 0.2755107581615448, 'val_acc': 0.9333333333333333, 'val_macro_f1': 0.9296969696969697, 'test_loss': 0.3189702033996582, 'test_acc': 0.9333333333333333, 'test_macro_f1': 0.9359817813765181, 'epoch': 750}\n",
      "{'train_loss': 0.29848751425743103, 'train_acc': 0.9166666666666666, 'train_macro_f1': 0.9185072610604527, 'val_loss': 0.27221912145614624, 'val_acc': 0.9333333333333333, 'val_macro_f1': 0.9296969696969697, 'test_loss': 0.3154453635215759, 'test_acc': 0.9333333333333333, 'test_macro_f1': 0.9359817813765181, 'epoch': 760}\n",
      "{'train_loss': 0.2956210672855377, 'train_acc': 0.9166666666666666, 'train_macro_f1': 0.9185072610604527, 'val_loss': 0.2689531445503235, 'val_acc': 0.9333333333333333, 'val_macro_f1': 0.9296969696969697, 'test_loss': 0.31210389733314514, 'test_acc': 0.9333333333333333, 'test_macro_f1': 0.9359817813765181, 'epoch': 770}\n",
      "{'train_loss': 0.2928185760974884, 'train_acc': 0.9166666666666666, 'train_macro_f1': 0.9185072610604527, 'val_loss': 0.2657594382762909, 'val_acc': 0.9333333333333333, 'val_macro_f1': 0.9296969696969697, 'test_loss': 0.3088078498840332, 'test_acc': 0.9333333333333333, 'test_macro_f1': 0.9359817813765181, 'epoch': 780}\n",
      "{'train_loss': 0.29008105397224426, 'train_acc': 0.9166666666666666, 'train_macro_f1': 0.9185072610604527, 'val_loss': 0.26253125071525574, 'val_acc': 0.9333333333333333, 'val_macro_f1': 0.9296969696969697, 'test_loss': 0.3057418763637543, 'test_acc': 0.9333333333333333, 'test_macro_f1': 0.9359817813765181, 'epoch': 790}\n",
      "{'train_loss': 0.2877081036567688, 'train_acc': 0.9333333333333333, 'train_macro_f1': 0.932712215320911, 'val_loss': 0.25875306129455566, 'val_acc': 0.9555555555555556, 'val_macro_f1': 0.9526143790849674, 'test_loss': 0.3047415316104889, 'test_acc': 0.9333333333333333, 'test_macro_f1': 0.9359817813765181, 'epoch': 800}\n",
      "{'train_loss': 0.2849312126636505, 'train_acc': 0.9333333333333333, 'train_macro_f1': 0.932712215320911, 'val_loss': 0.2562691867351532, 'val_acc': 0.9555555555555556, 'val_macro_f1': 0.9526143790849674, 'test_loss': 0.3003641963005066, 'test_acc': 0.9333333333333333, 'test_macro_f1': 0.9359817813765181, 'epoch': 810}\n",
      "{'train_loss': 0.2824152410030365, 'train_acc': 0.9166666666666666, 'train_macro_f1': 0.9185072610604527, 'val_loss': 0.2536534368991852, 'val_acc': 0.9555555555555556, 'val_macro_f1': 0.9526143790849674, 'test_loss': 0.29698243737220764, 'test_acc': 0.9333333333333333, 'test_macro_f1': 0.9359817813765181, 'epoch': 820}\n",
      "{'train_loss': 0.27998074889183044, 'train_acc': 0.9166666666666666, 'train_macro_f1': 0.9185072610604527, 'val_loss': 0.25094524025917053, 'val_acc': 0.9555555555555556, 'val_macro_f1': 0.9526143790849674, 'test_loss': 0.29376694560050964, 'test_acc': 0.9333333333333333, 'test_macro_f1': 0.9359817813765181, 'epoch': 830}\n",
      "{'train_loss': 0.27760523557662964, 'train_acc': 0.9166666666666666, 'train_macro_f1': 0.9185072610604527, 'val_loss': 0.24834473431110382, 'val_acc': 0.9555555555555556, 'val_macro_f1': 0.9526143790849674, 'test_loss': 0.29068896174430847, 'test_acc': 0.9333333333333333, 'test_macro_f1': 0.9359817813765181, 'epoch': 840}\n",
      "{'train_loss': 0.27528274059295654, 'train_acc': 0.9166666666666666, 'train_macro_f1': 0.9185072610604527, 'val_loss': 0.24580438435077667, 'val_acc': 0.9555555555555556, 'val_macro_f1': 0.9526143790849674, 'test_loss': 0.28770801424980164, 'test_acc': 0.9333333333333333, 'test_macro_f1': 0.9359817813765181, 'epoch': 850}\n",
      "{'train_loss': 0.27300554513931274, 'train_acc': 0.9166666666666666, 'train_macro_f1': 0.9185072610604527, 'val_loss': 0.24320274591445923, 'val_acc': 0.9555555555555556, 'val_macro_f1': 0.9526143790849674, 'test_loss': 0.2849210798740387, 'test_acc': 0.9333333333333333, 'test_macro_f1': 0.9359817813765181, 'epoch': 860}\n",
      "{'train_loss': 0.2707701325416565, 'train_acc': 0.9166666666666666, 'train_macro_f1': 0.9185072610604527, 'val_loss': 0.24054737389087677, 'val_acc': 0.9555555555555556, 'val_macro_f1': 0.9526143790849674, 'test_loss': 0.2823497951030731, 'test_acc': 0.9333333333333333, 'test_macro_f1': 0.9359817813765181, 'epoch': 870}\n",
      "{'train_loss': 0.2685762941837311, 'train_acc': 0.9166666666666666, 'train_macro_f1': 0.9185072610604527, 'val_loss': 0.23808082938194275, 'val_acc': 0.9555555555555556, 'val_macro_f1': 0.9526143790849674, 'test_loss': 0.2796160876750946, 'test_acc': 0.9333333333333333, 'test_macro_f1': 0.9359817813765181, 'epoch': 880}\n",
      "{'train_loss': 0.26642242074012756, 'train_acc': 0.9166666666666666, 'train_macro_f1': 0.9185072610604527, 'val_loss': 0.23556341230869293, 'val_acc': 0.9555555555555556, 'val_macro_f1': 0.9526143790849674, 'test_loss': 0.27705228328704834, 'test_acc': 0.9333333333333333, 'test_macro_f1': 0.9359817813765181, 'epoch': 890}\n",
      "{'train_loss': 0.2643072009086609, 'train_acc': 0.9166666666666666, 'train_macro_f1': 0.9185072610604527, 'val_loss': 0.2331414520740509, 'val_acc': 0.9555555555555556, 'val_macro_f1': 0.9526143790849674, 'test_loss': 0.2744663953781128, 'test_acc': 0.9333333333333333, 'test_macro_f1': 0.9359817813765181, 'epoch': 900}\n",
      "{'train_loss': 0.2622300684452057, 'train_acc': 0.9166666666666666, 'train_macro_f1': 0.9185072610604527, 'val_loss': 0.23069435358047485, 'val_acc': 0.9555555555555556, 'val_macro_f1': 0.9526143790849674, 'test_loss': 0.271992951631546, 'test_acc': 0.9333333333333333, 'test_macro_f1': 0.9359817813765181, 'epoch': 910}\n",
      "{'train_loss': 0.26034295558929443, 'train_acc': 0.9333333333333333, 'train_macro_f1': 0.932712215320911, 'val_loss': 0.22737790644168854, 'val_acc': 0.9555555555555556, 'val_macro_f1': 0.9526143790849674, 'test_loss': 0.2706950604915619, 'test_acc': 0.9333333333333333, 'test_macro_f1': 0.9359817813765181, 'epoch': 920}\n",
      "{'train_loss': 0.25836294889450073, 'train_acc': 0.9166666666666666, 'train_macro_f1': 0.9185072610604527, 'val_loss': 0.22709736227989197, 'val_acc': 0.9555555555555556, 'val_macro_f1': 0.9526143790849674, 'test_loss': 0.2659812569618225, 'test_acc': 0.9333333333333333, 'test_macro_f1': 0.9359817813765181, 'epoch': 930}\n",
      "{'train_loss': 0.256375789642334, 'train_acc': 0.9166666666666666, 'train_macro_f1': 0.9185072610604527, 'val_loss': 0.22456376254558563, 'val_acc': 0.9555555555555556, 'val_macro_f1': 0.9526143790849674, 'test_loss': 0.26414573192596436, 'test_acc': 0.9333333333333333, 'test_macro_f1': 0.9359817813765181, 'epoch': 940}\n",
      "{'train_loss': 0.2544873058795929, 'train_acc': 0.9166666666666666, 'train_macro_f1': 0.9185072610604527, 'val_loss': 0.22209955751895905, 'val_acc': 0.9555555555555556, 'val_macro_f1': 0.9526143790849674, 'test_loss': 0.2621106505393982, 'test_acc': 0.9333333333333333, 'test_macro_f1': 0.9359817813765181, 'epoch': 950}\n",
      "{'train_loss': 0.2526545524597168, 'train_acc': 0.9166666666666666, 'train_macro_f1': 0.9185072610604527, 'val_loss': 0.21992968022823334, 'val_acc': 0.9555555555555556, 'val_macro_f1': 0.9526143790849674, 'test_loss': 0.2599978446960449, 'test_acc': 0.9333333333333333, 'test_macro_f1': 0.9359817813765181, 'epoch': 960}\n",
      "{'train_loss': 0.2508561313152313, 'train_acc': 0.9166666666666666, 'train_macro_f1': 0.9185072610604527, 'val_loss': 0.21779435873031616, 'val_acc': 0.9555555555555556, 'val_macro_f1': 0.9526143790849674, 'test_loss': 0.2578105628490448, 'test_acc': 0.9333333333333333, 'test_macro_f1': 0.9359817813765181, 'epoch': 970}\n",
      "{'train_loss': 0.2490854412317276, 'train_acc': 0.9333333333333333, 'train_macro_f1': 0.932712215320911, 'val_loss': 0.21570777893066406, 'val_acc': 0.9555555555555556, 'val_macro_f1': 0.9526143790849674, 'test_loss': 0.2557040750980377, 'test_acc': 0.9333333333333333, 'test_macro_f1': 0.9359817813765181, 'epoch': 980}\n",
      "{'train_loss': 0.24734264612197876, 'train_acc': 0.9333333333333333, 'train_macro_f1': 0.932712215320911, 'val_loss': 0.21357765793800354, 'val_acc': 0.9777777777777777, 'val_macro_f1': 0.975983436853002, 'test_loss': 0.2536432147026062, 'test_acc': 0.9333333333333333, 'test_macro_f1': 0.9359817813765181, 'epoch': 990}\n",
      "{'train_loss': 0.24579721689224243, 'train_acc': 0.9333333333333333, 'train_macro_f1': 0.932712215320911, 'val_loss': 0.211844339966774, 'val_acc': 0.9777777777777777, 'val_macro_f1': 0.975983436853002, 'test_loss': 0.25170770287513733, 'test_acc': 0.9333333333333333, 'test_macro_f1': 0.9359817813765181, 'epoch': 999}\n"
     ]
    },
    {
     "data": {
      "text/plain": "Net(\n  (analysis): GraphSpectralFilterLayer (4 -> 64)\n  (synthesis): GraphSpectralFilterLayer (64 -> tensor(3))\n)"
     },
     "execution_count": 35,
     "metadata": {},
     "output_type": "execute_result"
    }
   ],
   "source": [
    "from torch.optim import Adam\n",
    "from sklearn.metrics import f1_score\n",
    "import numpy as np\n",
    "\n",
    "model = Net()\n",
    "\n",
    "model.reset_parameters()\n",
    "optimizer = Adam(model.parameters(), lr=0.001)\n",
    "\n",
    "best_val_loss = float('inf')\n",
    "best_val_acc = float(0)\n",
    "eval_info_early_model = None\n",
    "bad_counter = 0\n",
    "\n",
    "masks = {\n",
    "    'train_mask': train_mask,\n",
    "    'val_mask': val_mask,\n",
    "    'test_mask': test_mask,\n",
    "}\n",
    "\n",
    "for epoch in range(1, 1000):\n",
    "    model.train()\n",
    "    optimizer.zero_grad()\n",
    "    out = model(x)[0]\n",
    "    loss = F.nll_loss(out[train_mask], y[train_mask])\n",
    "    loss.backward()\n",
    "    optimizer.step()\n",
    "\n",
    "    model.eval()\n",
    "\n",
    "    with torch.no_grad():\n",
    "        logits = model(x)[0]\n",
    "\n",
    "    outs = {}\n",
    "    for key in ['train', 'val', 'test']:\n",
    "        mask = masks['{}_mask'.format(key)]\n",
    "        loss = F.nll_loss(logits[mask], y[mask]).item()\n",
    "\n",
    "        outs['{}_loss'.format(key)] = loss\n",
    "        outs['{}_acc'.format(key)] = f1_score(y[mask].cpu(), logits[mask].max(1)[1].cpu(), average='micro')\n",
    "        outs['{}_macro_f1'.format(key)] = f1_score(y[mask].cpu(), logits[mask].max(1)[1].cpu(), average='macro')\n",
    "\n",
    "    outs['epoch'] = epoch\n",
    "    if epoch % 10 == 0:\n",
    "        print(outs)\n",
    "\n",
    "    if outs['val_acc'] > best_val_acc or outs['val_loss'] < best_val_loss:\n",
    "        if outs['val_acc'] >= best_val_acc:\n",
    "            eval_info_early_model = outs\n",
    "            torch.save(model.state_dict(), './best_barbell.pkl')\n",
    "        best_val_acc = np.max((best_val_acc, outs['val_acc']))\n",
    "        best_val_loss = np.min((best_val_loss, outs['val_loss']))\n",
    "        bad_counter = 0\n",
    "    else:\n",
    "        bad_counter += 1\n",
    "        if bad_counter == 10:\n",
    "            break\n",
    "print(eval_info_early_model)\n",
    "\n",
    "model.load_state_dict(torch.load('./best_barbell.pkl'))\n",
    "model.eval()"
   ],
   "metadata": {
    "collapsed": false,
    "pycharm": {
     "name": "#%%\n"
    }
   }
  },
  {
   "cell_type": "code",
   "execution_count": null,
   "outputs": [],
   "source": [],
   "metadata": {
    "collapsed": false,
    "pycharm": {
     "name": "#%%\n"
    }
   }
  }
 ],
 "metadata": {
  "kernelspec": {
   "display_name": "Python 3",
   "language": "python",
   "name": "python3"
  },
  "language_info": {
   "codemirror_mode": {
    "name": "ipython",
    "version": 2
   },
   "file_extension": ".py",
   "mimetype": "text/x-python",
   "name": "python",
   "nbconvert_exporter": "python",
   "pygments_lexer": "ipython2",
   "version": "2.7.6"
  }
 },
 "nbformat": 4,
 "nbformat_minor": 0
}