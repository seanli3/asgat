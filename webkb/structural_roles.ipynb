{
 "cells": [
  {
   "cell_type": "code",
   "execution_count": 2219,
   "metadata": {
    "collapsed": true
   },
   "outputs": [
    {
     "data": {
      "text/plain": "<torch._C.Generator at 0x7f66f3b38b30>"
     },
     "execution_count": 2219,
     "metadata": {},
     "output_type": "execute_result"
    }
   ],
   "source": [
    "import networkx as nx\n",
    "from graphrole import RecursiveFeatureExtractor, RoleExtractor\n",
    "import torch.nn.functional as F\n",
    "import torch\n",
    "from model.layers import GraphSpectralFilterLayer, AnalysisFilter\n",
    "from model.spectral_filter import Graph\n",
    "from random import seed as rseed\n",
    "from numpy.random import seed as nseed\n",
    "\n",
    "\n",
    "\n",
    "rseed(729)\n",
    "nseed(729)\n",
    "torch.manual_seed(729)\n"
   ]
  },
  {
   "cell_type": "code",
   "execution_count": 2220,
   "outputs": [],
   "source": [
    "barbell = nx.barbell_graph(15, 15)\n",
    "# barbell = nx.balanced_tree(2, 4)\n",
    "# barbell = nx.dorogovtsev_goltsev_mendes_graph(5)\n",
    "# barbell = nx.erdos_renyi_graph(100, 0.2)\n",
    "# barbell = nx.karate_club_graph()\n"
   ],
   "metadata": {
    "collapsed": false,
    "pycharm": {
     "name": "#%%\n"
    }
   }
  },
  {
   "cell_type": "code",
   "execution_count": 2221,
   "outputs": [],
   "source": [
    "feature_extractor = RecursiveFeatureExtractor(barbell)\n",
    "\n",
    "features = feature_extractor.extract_features()\n",
    "\n",
    "roles = {}"
   ],
   "metadata": {
    "collapsed": false,
    "pycharm": {
     "name": "#%%\n"
    }
   }
  },
  {
   "cell_type": "code",
   "execution_count": 2222,
   "outputs": [],
   "source": [
    "# for i, degree in barbell.degree():\n",
    "#     if degree == 1:\n",
    "#         roles[i] = 'role_0'\n",
    "#     else:\n",
    "#         roles[i] = 'role_1'"
   ],
   "metadata": {
    "collapsed": false,
    "pycharm": {
     "name": "#%%\n"
    }
   }
  },
  {
   "cell_type": "code",
   "execution_count": 2223,
   "outputs": [],
   "source": [
    "role_extractor = RoleExtractor()\n",
    "role_extractor.extract_role_factors(features)"
   ],
   "metadata": {
    "collapsed": false,
    "pycharm": {
     "name": "#%%\n"
    }
   }
  },
  {
   "cell_type": "code",
   "execution_count": 2224,
   "outputs": [
    {
     "data": {
      "text/plain": "      role_0    role_1\n0   0.830859  0.169141\n1   0.830859  0.169141\n2   0.830859  0.169141\n3   0.830859  0.169141\n4   0.830859  0.169141\n5   0.830859  0.169141\n6   0.830859  0.169141\n7   0.830859  0.169141\n8   0.830859  0.169141\n9   0.830859  0.169141\n10  0.830859  0.169141\n11  0.830859  0.169141\n12  0.830859  0.169141\n13  0.830859  0.169141\n14  0.830859  0.169141\n15  0.051210  0.948790\n16  0.288152  0.711848\n17  0.288152  0.711848\n18  0.288152  0.711848\n19  0.288152  0.711848\n20  0.288152  0.711848\n21  0.288152  0.711848\n22  0.288152  0.711848\n23  0.288152  0.711848\n24  0.288152  0.711848\n25  0.288152  0.711848\n26  0.288152  0.711848\n27  0.288152  0.711848\n28  0.288152  0.711848\n29  0.051210  0.948790\n30  0.830859  0.169141\n31  0.830859  0.169141\n32  0.830859  0.169141\n33  0.830859  0.169141\n34  0.830859  0.169141\n35  0.830859  0.169141\n36  0.830859  0.169141\n37  0.830859  0.169141\n38  0.830859  0.169141\n39  0.830859  0.169141\n40  0.830859  0.169141\n41  0.830859  0.169141\n42  0.830859  0.169141\n43  0.830859  0.169141\n44  0.830859  0.169141",
      "text/html": "<div>\n<style scoped>\n    .dataframe tbody tr th:only-of-type {\n        vertical-align: middle;\n    }\n\n    .dataframe tbody tr th {\n        vertical-align: top;\n    }\n\n    .dataframe thead th {\n        text-align: right;\n    }\n</style>\n<table border=\"1\" class=\"dataframe\">\n  <thead>\n    <tr style=\"text-align: right;\">\n      <th></th>\n      <th>role_0</th>\n      <th>role_1</th>\n    </tr>\n  </thead>\n  <tbody>\n    <tr>\n      <th>0</th>\n      <td>0.830859</td>\n      <td>0.169141</td>\n    </tr>\n    <tr>\n      <th>1</th>\n      <td>0.830859</td>\n      <td>0.169141</td>\n    </tr>\n    <tr>\n      <th>2</th>\n      <td>0.830859</td>\n      <td>0.169141</td>\n    </tr>\n    <tr>\n      <th>3</th>\n      <td>0.830859</td>\n      <td>0.169141</td>\n    </tr>\n    <tr>\n      <th>4</th>\n      <td>0.830859</td>\n      <td>0.169141</td>\n    </tr>\n    <tr>\n      <th>5</th>\n      <td>0.830859</td>\n      <td>0.169141</td>\n    </tr>\n    <tr>\n      <th>6</th>\n      <td>0.830859</td>\n      <td>0.169141</td>\n    </tr>\n    <tr>\n      <th>7</th>\n      <td>0.830859</td>\n      <td>0.169141</td>\n    </tr>\n    <tr>\n      <th>8</th>\n      <td>0.830859</td>\n      <td>0.169141</td>\n    </tr>\n    <tr>\n      <th>9</th>\n      <td>0.830859</td>\n      <td>0.169141</td>\n    </tr>\n    <tr>\n      <th>10</th>\n      <td>0.830859</td>\n      <td>0.169141</td>\n    </tr>\n    <tr>\n      <th>11</th>\n      <td>0.830859</td>\n      <td>0.169141</td>\n    </tr>\n    <tr>\n      <th>12</th>\n      <td>0.830859</td>\n      <td>0.169141</td>\n    </tr>\n    <tr>\n      <th>13</th>\n      <td>0.830859</td>\n      <td>0.169141</td>\n    </tr>\n    <tr>\n      <th>14</th>\n      <td>0.830859</td>\n      <td>0.169141</td>\n    </tr>\n    <tr>\n      <th>15</th>\n      <td>0.051210</td>\n      <td>0.948790</td>\n    </tr>\n    <tr>\n      <th>16</th>\n      <td>0.288152</td>\n      <td>0.711848</td>\n    </tr>\n    <tr>\n      <th>17</th>\n      <td>0.288152</td>\n      <td>0.711848</td>\n    </tr>\n    <tr>\n      <th>18</th>\n      <td>0.288152</td>\n      <td>0.711848</td>\n    </tr>\n    <tr>\n      <th>19</th>\n      <td>0.288152</td>\n      <td>0.711848</td>\n    </tr>\n    <tr>\n      <th>20</th>\n      <td>0.288152</td>\n      <td>0.711848</td>\n    </tr>\n    <tr>\n      <th>21</th>\n      <td>0.288152</td>\n      <td>0.711848</td>\n    </tr>\n    <tr>\n      <th>22</th>\n      <td>0.288152</td>\n      <td>0.711848</td>\n    </tr>\n    <tr>\n      <th>23</th>\n      <td>0.288152</td>\n      <td>0.711848</td>\n    </tr>\n    <tr>\n      <th>24</th>\n      <td>0.288152</td>\n      <td>0.711848</td>\n    </tr>\n    <tr>\n      <th>25</th>\n      <td>0.288152</td>\n      <td>0.711848</td>\n    </tr>\n    <tr>\n      <th>26</th>\n      <td>0.288152</td>\n      <td>0.711848</td>\n    </tr>\n    <tr>\n      <th>27</th>\n      <td>0.288152</td>\n      <td>0.711848</td>\n    </tr>\n    <tr>\n      <th>28</th>\n      <td>0.288152</td>\n      <td>0.711848</td>\n    </tr>\n    <tr>\n      <th>29</th>\n      <td>0.051210</td>\n      <td>0.948790</td>\n    </tr>\n    <tr>\n      <th>30</th>\n      <td>0.830859</td>\n      <td>0.169141</td>\n    </tr>\n    <tr>\n      <th>31</th>\n      <td>0.830859</td>\n      <td>0.169141</td>\n    </tr>\n    <tr>\n      <th>32</th>\n      <td>0.830859</td>\n      <td>0.169141</td>\n    </tr>\n    <tr>\n      <th>33</th>\n      <td>0.830859</td>\n      <td>0.169141</td>\n    </tr>\n    <tr>\n      <th>34</th>\n      <td>0.830859</td>\n      <td>0.169141</td>\n    </tr>\n    <tr>\n      <th>35</th>\n      <td>0.830859</td>\n      <td>0.169141</td>\n    </tr>\n    <tr>\n      <th>36</th>\n      <td>0.830859</td>\n      <td>0.169141</td>\n    </tr>\n    <tr>\n      <th>37</th>\n      <td>0.830859</td>\n      <td>0.169141</td>\n    </tr>\n    <tr>\n      <th>38</th>\n      <td>0.830859</td>\n      <td>0.169141</td>\n    </tr>\n    <tr>\n      <th>39</th>\n      <td>0.830859</td>\n      <td>0.169141</td>\n    </tr>\n    <tr>\n      <th>40</th>\n      <td>0.830859</td>\n      <td>0.169141</td>\n    </tr>\n    <tr>\n      <th>41</th>\n      <td>0.830859</td>\n      <td>0.169141</td>\n    </tr>\n    <tr>\n      <th>42</th>\n      <td>0.830859</td>\n      <td>0.169141</td>\n    </tr>\n    <tr>\n      <th>43</th>\n      <td>0.830859</td>\n      <td>0.169141</td>\n    </tr>\n    <tr>\n      <th>44</th>\n      <td>0.830859</td>\n      <td>0.169141</td>\n    </tr>\n  </tbody>\n</table>\n</div>"
     },
     "execution_count": 2224,
     "metadata": {},
     "output_type": "execute_result"
    }
   ],
   "source": [
    "role_extractor.role_percentage"
   ],
   "metadata": {
    "collapsed": false,
    "pycharm": {
     "name": "#%%\n"
    }
   }
  },
  {
   "cell_type": "code",
   "execution_count": 2225,
   "outputs": [],
   "source": [
    "# for i, percentage in enumerate(role_extractor.role_percentage['role_0']):\n",
    "#     if percentage > 0.2 and percentage < 0.8:\n",
    "#         print(percentage)\n",
    "#         roles[i] = 'role_2'\n",
    "\n",
    "n = barbell.number_of_nodes()\n",
    "roles = role_extractor.roles\n",
    "# for i in role_extractor.roles:\n",
    "#     roles[i+n] = role_extractor.roles[i]\n",
    "\n",
    "# roles[14] = 'role_1'\n",
    "# roles[30] = 'role_1'"
   ],
   "metadata": {
    "collapsed": false,
    "pycharm": {
     "name": "#%%\n"
    }
   }
  },
  {
   "cell_type": "code",
   "execution_count": 2226,
   "outputs": [
    {
     "data": {
      "text/plain": "<Figure size 432x288 with 1 Axes>",
      "image/png": "[encoded data removed]"
     },
     "metadata": {},
     "output_type": "display_data"
    }
   ],
   "source": [
    "# new_edges = list(barbell.edges) + list(map(lambda e: (e[0]+n, e[1]+n), barbell.edges)) + [(0, 34)]\n",
    "# barbell = nx.Graph(new_edges)\n",
    "nx.draw(barbell, node_size=50, linewidths=0.2)"
   ],
   "metadata": {
    "collapsed": false,
    "pycharm": {
     "name": "#%%\n"
    }
   }
  },
  {
   "cell_type": "code",
   "execution_count": 2484,
   "outputs": [
    {
     "data": {
      "text/plain": "<Figure size 4800x4000 with 0 Axes>"
     },
     "metadata": {},
     "output_type": "display_data"
    }
   ],
   "source": [
    "import numpy as np\n",
    "test = nx.complete_graph(15)\n",
    "# pos = nx.spring_layout(test)\n",
    "new_pos = {}\n",
    "# for i in pos:\n",
    "#     new_pos[i + 30] = pos[i]/5 + 0.3\n",
    "#     new_pos[i] = pos[i]/5 - 0.5\n",
    "new_pos = pos\n",
    "\n",
    "\n",
    "for i in range(15, 30):\n",
    "    if i < 22:\n",
    "        new_pos[i] = np.array((0.06*(i-15) -0.2, -0.3))\n",
    "    elif i == 22:\n",
    "        new_pos[i] = np.array((0.06 - 0.08, -0.2))\n",
    "    else:\n",
    "        new_pos[i] = np.array((0.06*(i-23) -0.2, -0.1))\n",
    "    # else:\n",
    "    #     new_pos[i] = np.array((0.05*(i-35), -0.2))\n",
    "pos= new_pos\n",
    "\n",
    "\n",
    "from matplotlib import pyplot as plt\n",
    "\n",
    "plt.figure(figsize=(12, 10), dpi=400)\n",
    "\n",
    "# pos = nx.fruchterman_reingold_layout(barbell)\n",
    "nx.draw(barbell,\n",
    "        pos=pos,\n",
    "        cmap=plt.cm.rainbow,\n",
    "        node_size=600,\n",
    "        node_color=[1]*14 + list(range(14,22)) + [22] + list(range(14,22))[::-1] + [1]*14,\n",
    "        width=.3,\n",
    "        font_size=16,\n",
    "        alpha=1,\n",
    "        linewidths=0.4,\n",
    "        edgecolors='black',\n",
    "        # with_labels=True\n",
    "        # node_color=list(map(lambda n: color_map[int(roles[n].split('_')[1])], barbell.nodes))\n",
    "        )\n",
    "\n",
    "plt.savefig('./barbell.pdf', format='pdf')\n",
    "plt.savefig('./barbell.eps', bbox_inches='tight')\n",
    "plt.clf()"
   ],
   "metadata": {
    "collapsed": false,
    "pycharm": {
     "name": "#%%\n"
    }
   }
  },
  {
   "cell_type": "code",
   "execution_count": 2468,
   "outputs": [
    {
     "name": "stdout",
     "output_type": "stream",
     "text": [
      "torch.Size([27, 1])\n"
     ]
    }
   ],
   "source": [
    "from sklearn.model_selection import train_test_split\n",
    "\n",
    "x = F.one_hot(torch.arange(barbell.number_of_nodes())).float()\n",
    "# x = torch.ones(barbell.number_of_nodes(), 16).float()\n",
    "y = torch.tensor(\n",
    "    list(map(lambda r: int(roles[r].split('_')[1]),\n",
    "    barbell.nodes))\n",
    ")\n",
    "\n",
    "train_idx, test_idx, _, _ = train_test_split(list(range(barbell.number_of_nodes())), list(range(barbell.number_of_nodes())), test_size=0.4, random_state=42)\n",
    "val_idx, test_idx, _, _ = train_test_split(test_idx, test_idx, test_size=0.5)\n",
    "\n",
    "\n",
    "def index_to_mask(index, size):\n",
    "    mask = torch.zeros(size, dtype=torch.bool, device=index.device)\n",
    "    mask[index] = 1\n",
    "    return mask\n",
    "\n",
    "train_mask = index_to_mask(torch.tensor(train_idx), y.shape[0])\n",
    "val_mask = index_to_mask(torch.tensor(val_idx), y.shape[0])\n",
    "test_mask = index_to_mask(torch.tensor(test_idx), y.shape[0])\n",
    "print(train_mask.nonzero().shape)"
   ],
   "metadata": {
    "collapsed": false,
    "pycharm": {
     "name": "#%%\n"
    }
   }
  },
  {
   "cell_type": "code",
   "execution_count": 2469,
   "outputs": [],
   "source": [
    "N = barbell.number_of_nodes()\n",
    "dropout = 0.\n",
    "heads = 1\n",
    "class Net(torch.nn.Module):\n",
    "    def __init__(self):\n",
    "        super(Net, self).__init__()\n",
    "        adj = torch.sparse_coo_tensor(torch.tensor(list(barbell.edges)).T, torch.ones(barbell.number_of_edges()), (N, N))\n",
    "        self.G = Graph(adj)\n",
    "        self.G.estimate_lmax()\n",
    "\n",
    "        self.analysis = GraphSpectralFilterLayer(self.G, x.shape[1], 64,\n",
    "                                                 dropout=dropout, out_channels=heads, alpha=0.2, order=16, concat=False)\n",
    "\n",
    "        self.synthesis = GraphSpectralFilterLayer(self.G, 64 * heads, 16, dropout=dropout,\n",
    "                                                  out_channels=1, alpha=0.2,\n",
    "                                                  order=16, concat=False)\n",
    "\n",
    "\n",
    "        self.linear = torch.nn.Linear(16, y.max()+1, bias=False)\n",
    "\n",
    "    def reset_parameters(self):\n",
    "        self.analysis.reset_parameters()\n",
    "        self.synthesis.reset_parameters()\n",
    "        self.linear.reset_parameters()\n",
    "\n",
    "    def forward(self, input):\n",
    "        x = self.analysis(input)[0]\n",
    "        x = F.dropout(x, p=dropout, training=self.training)\n",
    "        x = self.synthesis(x)[0]\n",
    "        x = F.elu(x)\n",
    "        embeddings = x\n",
    "        x = self.linear(x)\n",
    "\n",
    "        return F.log_softmax(x, dim=1), embeddings, None\n"
   ],
   "metadata": {
    "collapsed": false,
    "pycharm": {
     "name": "#%%\n"
    }
   }
  },
  {
   "cell_type": "code",
   "execution_count": 2470,
   "outputs": [
    {
     "name": "stdout",
     "output_type": "stream",
     "text": [
      "{'train_loss': 0.11444877088069916, 'train_acc': 0.9629629629629629, 'train_macro_f1': 0.9570747217806042, 'val_loss': 0.060781240463256836, 'val_acc': 1.0, 'val_macro_f1': 1.0, 'test_loss': 0.13429225981235504, 'test_acc': 0.8888888888888888, 'test_macro_f1': 0.8, 'epoch': 100}\n",
      "{'train_loss': 0.05175449699163437, 'train_acc': 0.9629629629629629, 'train_macro_f1': 0.9570747217806042, 'val_loss': 0.01787823811173439, 'val_acc': 1.0, 'val_macro_f1': 1.0, 'test_loss': 0.0834670290350914, 'test_acc': 1.0, 'test_macro_f1': 1.0, 'epoch': 200}\n",
      "{'train_loss': 0.034343212842941284, 'train_acc': 1.0, 'train_macro_f1': 1.0, 'val_loss': 0.006428668275475502, 'val_acc': 1.0, 'val_macro_f1': 1.0, 'test_loss': 0.06522863358259201, 'test_acc': 1.0, 'test_macro_f1': 1.0, 'epoch': 300}\n",
      "{'train_loss': 0.023436401039361954, 'train_acc': 1.0, 'train_macro_f1': 1.0, 'val_loss': 0.002414614660665393, 'val_acc': 1.0, 'val_macro_f1': 1.0, 'test_loss': 0.05423983559012413, 'test_acc': 1.0, 'test_macro_f1': 1.0, 'epoch': 400}\n",
      "{'train_loss': 0.01555719505995512, 'train_acc': 1.0, 'train_macro_f1': 1.0, 'val_loss': 0.0009086153004318476, 'val_acc': 1.0, 'val_macro_f1': 1.0, 'test_loss': 0.0467049703001976, 'test_acc': 1.0, 'test_macro_f1': 1.0, 'epoch': 500}\n",
      "{'train_loss': 0.010099017061293125, 'train_acc': 1.0, 'train_macro_f1': 1.0, 'val_loss': 0.0003534375282470137, 'val_acc': 1.0, 'val_macro_f1': 1.0, 'test_loss': 0.041607603430747986, 'test_acc': 1.0, 'test_macro_f1': 1.0, 'epoch': 600}\n",
      "{'train_loss': 0.006595376413315535, 'train_acc': 1.0, 'train_macro_f1': 1.0, 'val_loss': 0.0001494785537943244, 'val_acc': 1.0, 'val_macro_f1': 1.0, 'test_loss': 0.03813175857067108, 'test_acc': 1.0, 'test_macro_f1': 1.0, 'epoch': 700}\n",
      "{'train_loss': 0.004436208866536617, 'train_acc': 1.0, 'train_macro_f1': 1.0, 'val_loss': 7.070974970702082e-05, 'val_acc': 1.0, 'val_macro_f1': 1.0, 'test_loss': 0.03565284609794617, 'test_acc': 1.0, 'test_macro_f1': 1.0, 'epoch': 800}\n",
      "{'train_loss': 0.0030974342953413725, 'train_acc': 1.0, 'train_macro_f1': 1.0, 'val_loss': 3.7323585274862126e-05, 'val_acc': 1.0, 'val_macro_f1': 1.0, 'test_loss': 0.03380246460437775, 'test_acc': 1.0, 'test_macro_f1': 1.0, 'epoch': 900}\n",
      "{'train_loss': 0.002249752636998892, 'train_acc': 1.0, 'train_macro_f1': 1.0, 'val_loss': 2.1708596250391565e-05, 'val_acc': 1.0, 'val_macro_f1': 1.0, 'test_loss': 0.03238317742943764, 'test_acc': 1.0, 'test_macro_f1': 1.0, 'epoch': 999}\n"
     ]
    },
    {
     "data": {
      "text/plain": "Net(\n  (analysis): GraphSpectralFilterLayer (45 -> 64)\n  (synthesis): GraphSpectralFilterLayer (64 -> 16)\n  (linear): Linear(in_features=16, out_features=2, bias=False)\n)"
     },
     "execution_count": 2470,
     "metadata": {},
     "output_type": "execute_result"
    }
   ],
   "source": [
    "from torch.optim import Adam\n",
    "from sklearn.metrics import f1_score\n",
    "import numpy as np\n",
    "\n",
    "model = Net()\n",
    "\n",
    "model.reset_parameters()\n",
    "optimizer = Adam(model.parameters(), lr=0.001)\n",
    "\n",
    "best_val_loss = float('inf')\n",
    "best_val_acc = float(0)\n",
    "eval_info_early_model = None\n",
    "bad_counter = 0\n",
    "\n",
    "masks = {\n",
    "    'train_mask': train_mask,\n",
    "    'val_mask': val_mask,\n",
    "    'test_mask': test_mask,\n",
    "}\n",
    "\n",
    "for epoch in range(1, 1000):\n",
    "    model.train()\n",
    "    optimizer.zero_grad()\n",
    "    out = model(x)[0]\n",
    "    loss = F.nll_loss(out[train_mask], y[train_mask])\n",
    "    loss.backward()\n",
    "    optimizer.step()\n",
    "\n",
    "    model.eval()\n",
    "\n",
    "    with torch.no_grad():\n",
    "        logits = model(x)[0]\n",
    "\n",
    "    outs = {}\n",
    "    for key in ['train', 'val', 'test']:\n",
    "        mask = masks['{}_mask'.format(key)]\n",
    "        loss = F.nll_loss(logits[mask], y[mask]).item()\n",
    "\n",
    "        outs['{}_loss'.format(key)] = loss\n",
    "        outs['{}_acc'.format(key)] = f1_score(y[mask].cpu(), logits[mask].max(1)[1].cpu(), average='micro')\n",
    "        outs['{}_macro_f1'.format(key)] = f1_score(y[mask].cpu(), logits[mask].max(1)[1].cpu(), average='macro')\n",
    "\n",
    "    outs['epoch'] = epoch\n",
    "    if epoch % 100 == 0:\n",
    "        print(outs)\n",
    "\n",
    "    if outs['val_acc'] > best_val_acc or outs['val_loss'] < best_val_loss:\n",
    "        if outs['val_acc'] >= best_val_acc:\n",
    "            eval_info_early_model = outs\n",
    "            torch.save(model.state_dict(), './best_barbell.pkl')\n",
    "        best_val_acc = np.max((best_val_acc, outs['val_acc']))\n",
    "        best_val_loss = np.min((best_val_loss, outs['val_loss']))\n",
    "        bad_counter = 0\n",
    "    else:\n",
    "        bad_counter += 1\n",
    "        if bad_counter == 10:\n",
    "            break\n",
    "print(eval_info_early_model)\n",
    "\n",
    "model.load_state_dict(torch.load('./best_barbell.pkl'))\n",
    "model.eval()"
   ],
   "metadata": {
    "collapsed": false,
    "pycharm": {
     "name": "#%%\n"
    }
   }
  },
  {
   "cell_type": "code",
   "execution_count": 2471,
   "outputs": [
    {
     "name": "stdout",
     "output_type": "stream",
     "text": [
      "[t-SNE] Computing 44 nearest neighbors...\n",
      "[t-SNE] Indexed 45 samples in 0.000s...\n",
      "[t-SNE] Computed neighbors for 45 samples in 0.002s...\n",
      "[t-SNE] Computed conditional probabilities for sample 45 / 45\n",
      "[t-SNE] Mean sigma: 1.467181\n",
      "[t-SNE] KL divergence after 250 iterations with early exaggeration: 32.061119\n",
      "[t-SNE] KL divergence after 700 iterations: 0.021115\n"
     ]
    },
    {
     "data": {
      "text/plain": "<Figure size 640x400 with 1 Axes>",
      "image/png": "[encoded data removed]"
     },
     "metadata": {
      "needs_background": "light"
     },
     "output_type": "display_data"
    }
   ],
   "source": [
    "with torch.no_grad():\n",
    "    _, embeddings, _ = model(x)\n",
    "from sklearn.manifold import TSNE\n",
    "tsne = TSNE(n_components=2, verbose=1,n_iter=3000, early_exaggeration=10, learning_rate=30, perplexity=25,)\n",
    "tsne_results = tsne.fit_transform(embeddings)\n",
    "\n",
    "import seaborn as sns\n",
    "df_subset = {}\n",
    "df_subset['tsne-2d-one'] = tsne_results[:,0]\n",
    "df_subset['tsne-2d-two'] = tsne_results[:,1]\n",
    "df_subset['y'] = [0]*14 + list(range(1,9)) + [9] + list(range(1,9))[::-1] + [0]*14\n",
    "plt.figure(figsize=(16,10), dpi=40)\n",
    "plt.scatter(\n",
    "    x=tsne_results[:, 0],\n",
    "    y=tsne_results[:, 1],\n",
    "    # c = [0]*14 + list(range(1,9)) + [9] + list(range(1,9))[::-1] + [0]*14,\n",
    "    c=[0]*14 + list(range(14,22)) + [22] + list(range(14,22))[::-1] + [0]*14,\n",
    "    cmap=plt.cm.rainbow,\n",
    "    linewidths=1,\n",
    "    edgecolors='black',\n",
    "    s=800,\n",
    ")\n",
    "plt.title(\"T-SNE\", fontsize=25)\n",
    "\n",
    "locs, labels = plt.xticks(fontsize=18)\n",
    "locs, labels = plt.yticks(fontsize=18)"
   ],
   "metadata": {
    "collapsed": false,
    "pycharm": {
     "name": "#%%\n"
    }
   }
  },
  {
   "cell_type": "code",
   "execution_count": 2472,
   "outputs": [
    {
     "name": "stdout",
     "output_type": "stream",
     "text": [
      "Explained variation per principal component: [9.36074651e-01 6.37497490e-02 8.42828143e-05]\n"
     ]
    }
   ],
   "source": [
    "from sklearn.decomposition import PCA\n",
    "\n",
    "pca = PCA(n_components=3)\n",
    "pca_result = pca.fit_transform(embeddings)\n",
    "df = {}\n",
    "df['pca-one'] = pca_result[:,0]\n",
    "df['pca-two'] = pca_result[:,1]\n",
    "df['y'] = list(roles.values())\n",
    "print('Explained variation per principal component: {}'.format(pca.explained_variance_ratio_))"
   ],
   "metadata": {
    "collapsed": false,
    "pycharm": {
     "name": "#%%\n"
    }
   }
  },
  {
   "cell_type": "code",
   "execution_count": 2482,
   "outputs": [
    {
     "data": {
      "text/plain": "<Figure size 4800x4000 with 0 Axes>"
     },
     "metadata": {},
     "output_type": "display_data"
    }
   ],
   "source": [
    "plt.figure(figsize=(12, 10), dpi=400)\n",
    "plt.scatter(\n",
    "    x=pca_result[:, 0],\n",
    "    y=pca_result[:, 1],\n",
    "    # c = [0]*14 + list(range(1,9)) + [9] + list(range(1,9))[::-1] + [0]*14,\n",
    "    c=[0]*14 + list(range(14,22)) + [22] + list(range(14,22))[::-1] + [0]*14,\n",
    "    cmap=plt.cm.rainbow,\n",
    "    linewidths=1,\n",
    "    edgecolors='black',\n",
    "    s=800,\n",
    ")\n",
    "\n",
    "locs, labels = plt.xticks(fontsize=18)\n",
    "locs, labels = plt.yticks(fontsize=18)\n",
    "plt.xlabel(\"PCA 1\", fontsize=25)\n",
    "plt.ylabel(\"PCA 2\", fontsize=25)\n",
    "\n",
    "plt.savefig('./barbell_pca.pdf', format='pdf')\n",
    "plt.savefig('./barbell_pca.eps', bbox_inches='tight')\n",
    "plt.clf()"
   ],
   "metadata": {
    "collapsed": false,
    "pycharm": {
     "name": "#%%\n"
    }
   }
  },
  {
   "cell_type": "code",
   "execution_count": null,
   "outputs": [],
   "source": [],
   "metadata": {
    "collapsed": false,
    "pycharm": {
     "name": "#%%\n"
    }
   }
  }
 ],
 "metadata": {
  "kernelspec": {
   "display_name": "Python 3",
   "language": "python",
   "name": "python3"
  },
  "language_info": {
   "codemirror_mode": {
    "name": "ipython",
    "version": 2
   },
   "file_extension": ".py",
   "mimetype": "text/x-python",
   "name": "python",
   "nbconvert_exporter": "python",
   "pygments_lexer": "ipython2",
   "version": "2.7.6"
  }
 },
 "nbformat": 4,
 "nbformat_minor": 0
}